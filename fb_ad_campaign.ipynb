{
 "cells": [
  {
   "cell_type": "code",
   "execution_count": 129,
   "metadata": {},
   "outputs": [
    {
     "name": "stdout",
     "output_type": "stream",
     "text": [
      " Name: Shamanth\n",
     ]
    }
   ],
   "source": [
    "print(' Name: Shamanth N N \\n E-mail: shamanthnair007gmail.com')"
   ]
  },
  {
   "cell_type": "code",
   "execution_count": 92,
   "metadata": {},
   "outputs": [],
   "source": [
    "import numpy as np\n",
    "import pandas as pd\n",
    "import matplotlib.pyplot as plt\n",
    "import seaborn as sns\n",
    "import scipy.optimize\n",
    "import scipy.stats as stats\n",
    "from scipy.stats import expon\n",
    "import warnings\n",
    "warnings.filterwarnings(\"ignore\")"
   ]
  },
  {
   "cell_type": "code",
   "execution_count": 93,
   "metadata": {},
   "outputs": [
    {
     "data": {
      "text/html": [
       "<div>\n",
       "<style scoped>\n",
       "    .dataframe tbody tr th:only-of-type {\n",
       "        vertical-align: middle;\n",
       "    }\n",
       "\n",
       "    .dataframe tbody tr th {\n",
       "        vertical-align: top;\n",
       "    }\n",
       "\n",
       "    .dataframe thead th {\n",
       "        text-align: right;\n",
       "    }\n",
       "</style>\n",
       "<table border=\"1\" class=\"dataframe\">\n",
       "  <thead>\n",
       "    <tr style=\"text-align: right;\">\n",
       "      <th></th>\n",
       "      <th>ad_id</th>\n",
       "      <th>xyz_campaign_id</th>\n",
       "      <th>fb_campaign_id</th>\n",
       "      <th>age</th>\n",
       "      <th>gender</th>\n",
       "      <th>interest</th>\n",
       "      <th>Impressions</th>\n",
       "      <th>Clicks</th>\n",
       "      <th>Spent</th>\n",
       "      <th>Total_Conversion</th>\n",
       "      <th>Approved_Conversion</th>\n",
       "    </tr>\n",
       "  </thead>\n",
       "  <tbody>\n",
       "    <tr>\n",
       "      <th>0</th>\n",
       "      <td>708746</td>\n",
       "      <td>916</td>\n",
       "      <td>103916</td>\n",
       "      <td>30-34</td>\n",
       "      <td>M</td>\n",
       "      <td>15</td>\n",
       "      <td>7350</td>\n",
       "      <td>1</td>\n",
       "      <td>1.430000</td>\n",
       "      <td>2</td>\n",
       "      <td>1</td>\n",
       "    </tr>\n",
       "    <tr>\n",
       "      <th>1</th>\n",
       "      <td>708749</td>\n",
       "      <td>916</td>\n",
       "      <td>103917</td>\n",
       "      <td>30-34</td>\n",
       "      <td>M</td>\n",
       "      <td>16</td>\n",
       "      <td>17861</td>\n",
       "      <td>2</td>\n",
       "      <td>1.820000</td>\n",
       "      <td>2</td>\n",
       "      <td>0</td>\n",
       "    </tr>\n",
       "    <tr>\n",
       "      <th>2</th>\n",
       "      <td>708771</td>\n",
       "      <td>916</td>\n",
       "      <td>103920</td>\n",
       "      <td>30-34</td>\n",
       "      <td>M</td>\n",
       "      <td>20</td>\n",
       "      <td>693</td>\n",
       "      <td>0</td>\n",
       "      <td>0.000000</td>\n",
       "      <td>1</td>\n",
       "      <td>0</td>\n",
       "    </tr>\n",
       "    <tr>\n",
       "      <th>3</th>\n",
       "      <td>708815</td>\n",
       "      <td>916</td>\n",
       "      <td>103928</td>\n",
       "      <td>30-34</td>\n",
       "      <td>M</td>\n",
       "      <td>28</td>\n",
       "      <td>4259</td>\n",
       "      <td>1</td>\n",
       "      <td>1.250000</td>\n",
       "      <td>1</td>\n",
       "      <td>0</td>\n",
       "    </tr>\n",
       "    <tr>\n",
       "      <th>4</th>\n",
       "      <td>708818</td>\n",
       "      <td>916</td>\n",
       "      <td>103928</td>\n",
       "      <td>30-34</td>\n",
       "      <td>M</td>\n",
       "      <td>28</td>\n",
       "      <td>4133</td>\n",
       "      <td>1</td>\n",
       "      <td>1.290000</td>\n",
       "      <td>1</td>\n",
       "      <td>1</td>\n",
       "    </tr>\n",
       "    <tr>\n",
       "      <th>...</th>\n",
       "      <td>...</td>\n",
       "      <td>...</td>\n",
       "      <td>...</td>\n",
       "      <td>...</td>\n",
       "      <td>...</td>\n",
       "      <td>...</td>\n",
       "      <td>...</td>\n",
       "      <td>...</td>\n",
       "      <td>...</td>\n",
       "      <td>...</td>\n",
       "      <td>...</td>\n",
       "    </tr>\n",
       "    <tr>\n",
       "      <th>1138</th>\n",
       "      <td>1314410</td>\n",
       "      <td>1178</td>\n",
       "      <td>179977</td>\n",
       "      <td>45-49</td>\n",
       "      <td>F</td>\n",
       "      <td>109</td>\n",
       "      <td>1129773</td>\n",
       "      <td>252</td>\n",
       "      <td>358.189997</td>\n",
       "      <td>13</td>\n",
       "      <td>2</td>\n",
       "    </tr>\n",
       "    <tr>\n",
       "      <th>1139</th>\n",
       "      <td>1314411</td>\n",
       "      <td>1178</td>\n",
       "      <td>179978</td>\n",
       "      <td>45-49</td>\n",
       "      <td>F</td>\n",
       "      <td>110</td>\n",
       "      <td>637549</td>\n",
       "      <td>120</td>\n",
       "      <td>173.880003</td>\n",
       "      <td>3</td>\n",
       "      <td>0</td>\n",
       "    </tr>\n",
       "    <tr>\n",
       "      <th>1140</th>\n",
       "      <td>1314412</td>\n",
       "      <td>1178</td>\n",
       "      <td>179979</td>\n",
       "      <td>45-49</td>\n",
       "      <td>F</td>\n",
       "      <td>111</td>\n",
       "      <td>151531</td>\n",
       "      <td>28</td>\n",
       "      <td>40.289999</td>\n",
       "      <td>2</td>\n",
       "      <td>0</td>\n",
       "    </tr>\n",
       "    <tr>\n",
       "      <th>1141</th>\n",
       "      <td>1314414</td>\n",
       "      <td>1178</td>\n",
       "      <td>179981</td>\n",
       "      <td>45-49</td>\n",
       "      <td>F</td>\n",
       "      <td>113</td>\n",
       "      <td>790253</td>\n",
       "      <td>135</td>\n",
       "      <td>198.710000</td>\n",
       "      <td>8</td>\n",
       "      <td>2</td>\n",
       "    </tr>\n",
       "    <tr>\n",
       "      <th>1142</th>\n",
       "      <td>1314415</td>\n",
       "      <td>1178</td>\n",
       "      <td>179982</td>\n",
       "      <td>45-49</td>\n",
       "      <td>F</td>\n",
       "      <td>114</td>\n",
       "      <td>513161</td>\n",
       "      <td>114</td>\n",
       "      <td>165.609999</td>\n",
       "      <td>5</td>\n",
       "      <td>2</td>\n",
       "    </tr>\n",
       "  </tbody>\n",
       "</table>\n",
       "<p>1143 rows × 11 columns</p>\n",
       "</div>"
      ],
      "text/plain": [
       "        ad_id  xyz_campaign_id  fb_campaign_id    age gender  interest  \\\n",
       "0      708746              916          103916  30-34      M        15   \n",
       "1      708749              916          103917  30-34      M        16   \n",
       "2      708771              916          103920  30-34      M        20   \n",
       "3      708815              916          103928  30-34      M        28   \n",
       "4      708818              916          103928  30-34      M        28   \n",
       "...       ...              ...             ...    ...    ...       ...   \n",
       "1138  1314410             1178          179977  45-49      F       109   \n",
       "1139  1314411             1178          179978  45-49      F       110   \n",
       "1140  1314412             1178          179979  45-49      F       111   \n",
       "1141  1314414             1178          179981  45-49      F       113   \n",
       "1142  1314415             1178          179982  45-49      F       114   \n",
       "\n",
       "      Impressions  Clicks       Spent  Total_Conversion  Approved_Conversion  \n",
       "0            7350       1    1.430000                 2                    1  \n",
       "1           17861       2    1.820000                 2                    0  \n",
       "2             693       0    0.000000                 1                    0  \n",
       "3            4259       1    1.250000                 1                    0  \n",
       "4            4133       1    1.290000                 1                    1  \n",
       "...           ...     ...         ...               ...                  ...  \n",
       "1138      1129773     252  358.189997                13                    2  \n",
       "1139       637549     120  173.880003                 3                    0  \n",
       "1140       151531      28   40.289999                 2                    0  \n",
       "1141       790253     135  198.710000                 8                    2  \n",
       "1142       513161     114  165.609999                 5                    2  \n",
       "\n",
       "[1143 rows x 11 columns]"
      ]
     },
     "execution_count": 93,
     "metadata": {},
     "output_type": "execute_result"
    }
   ],
   "source": [
    "fb_data = pd.read_csv('fb_ad_data.csv')\n",
    "fb_data"
   ]
  },
  {
   "cell_type": "code",
   "execution_count": 94,
   "metadata": {},
   "outputs": [
    {
     "name": "stdout",
     "output_type": "stream",
     "text": [
      "<class 'pandas.core.frame.DataFrame'>\n",
      "RangeIndex: 1143 entries, 0 to 1142\n",
      "Data columns (total 11 columns):\n",
      " #   Column               Non-Null Count  Dtype  \n",
      "---  ------               --------------  -----  \n",
      " 0   ad_id                1143 non-null   int64  \n",
      " 1   xyz_campaign_id      1143 non-null   int64  \n",
      " 2   fb_campaign_id       1143 non-null   int64  \n",
      " 3   age                  1143 non-null   object \n",
      " 4   gender               1143 non-null   object \n",
      " 5   interest             1143 non-null   int64  \n",
      " 6   Impressions          1143 non-null   int64  \n",
      " 7   Clicks               1143 non-null   int64  \n",
      " 8   Spent                1143 non-null   float64\n",
      " 9   Total_Conversion     1143 non-null   int64  \n",
      " 10  Approved_Conversion  1143 non-null   int64  \n",
      "dtypes: float64(1), int64(8), object(2)\n",
      "memory usage: 98.4+ KB\n"
     ]
    }
   ],
   "source": [
    "# first for having the basic insight of the data:\n",
    "fb_data.info()"
   ]
  },
  {
   "cell_type": "code",
   "execution_count": 95,
   "metadata": {
    "scrolled": true
   },
   "outputs": [
    {
     "data": {
      "text/html": [
       "<div>\n",
       "<style scoped>\n",
       "    .dataframe tbody tr th:only-of-type {\n",
       "        vertical-align: middle;\n",
       "    }\n",
       "\n",
       "    .dataframe tbody tr th {\n",
       "        vertical-align: top;\n",
       "    }\n",
       "\n",
       "    .dataframe thead th {\n",
       "        text-align: right;\n",
       "    }\n",
       "</style>\n",
       "<table border=\"1\" class=\"dataframe\">\n",
       "  <thead>\n",
       "    <tr style=\"text-align: right;\">\n",
       "      <th></th>\n",
       "      <th>ad_id</th>\n",
       "      <th>xyz_campaign_id</th>\n",
       "      <th>fb_campaign_id</th>\n",
       "      <th>interest</th>\n",
       "      <th>Impressions</th>\n",
       "      <th>Clicks</th>\n",
       "      <th>Spent</th>\n",
       "      <th>Total_Conversion</th>\n",
       "      <th>Approved_Conversion</th>\n",
       "    </tr>\n",
       "  </thead>\n",
       "  <tbody>\n",
       "    <tr>\n",
       "      <th>count</th>\n",
       "      <td>1.143000e+03</td>\n",
       "      <td>1143.000000</td>\n",
       "      <td>1143.000000</td>\n",
       "      <td>1143.000000</td>\n",
       "      <td>1.143000e+03</td>\n",
       "      <td>1143.000000</td>\n",
       "      <td>1143.000000</td>\n",
       "      <td>1143.000000</td>\n",
       "      <td>1143.000000</td>\n",
       "    </tr>\n",
       "    <tr>\n",
       "      <th>mean</th>\n",
       "      <td>9.872611e+05</td>\n",
       "      <td>1067.382327</td>\n",
       "      <td>133783.989501</td>\n",
       "      <td>32.766404</td>\n",
       "      <td>1.867321e+05</td>\n",
       "      <td>33.390201</td>\n",
       "      <td>51.360656</td>\n",
       "      <td>2.855643</td>\n",
       "      <td>0.944007</td>\n",
       "    </tr>\n",
       "    <tr>\n",
       "      <th>std</th>\n",
       "      <td>1.939928e+05</td>\n",
       "      <td>121.629393</td>\n",
       "      <td>20500.308622</td>\n",
       "      <td>26.952131</td>\n",
       "      <td>3.127622e+05</td>\n",
       "      <td>56.892438</td>\n",
       "      <td>86.908418</td>\n",
       "      <td>4.483593</td>\n",
       "      <td>1.737708</td>\n",
       "    </tr>\n",
       "    <tr>\n",
       "      <th>min</th>\n",
       "      <td>7.087460e+05</td>\n",
       "      <td>916.000000</td>\n",
       "      <td>103916.000000</td>\n",
       "      <td>2.000000</td>\n",
       "      <td>8.700000e+01</td>\n",
       "      <td>0.000000</td>\n",
       "      <td>0.000000</td>\n",
       "      <td>0.000000</td>\n",
       "      <td>0.000000</td>\n",
       "    </tr>\n",
       "    <tr>\n",
       "      <th>25%</th>\n",
       "      <td>7.776325e+05</td>\n",
       "      <td>936.000000</td>\n",
       "      <td>115716.000000</td>\n",
       "      <td>16.000000</td>\n",
       "      <td>6.503500e+03</td>\n",
       "      <td>1.000000</td>\n",
       "      <td>1.480000</td>\n",
       "      <td>1.000000</td>\n",
       "      <td>0.000000</td>\n",
       "    </tr>\n",
       "    <tr>\n",
       "      <th>50%</th>\n",
       "      <td>1.121185e+06</td>\n",
       "      <td>1178.000000</td>\n",
       "      <td>144549.000000</td>\n",
       "      <td>25.000000</td>\n",
       "      <td>5.150900e+04</td>\n",
       "      <td>8.000000</td>\n",
       "      <td>12.370000</td>\n",
       "      <td>1.000000</td>\n",
       "      <td>1.000000</td>\n",
       "    </tr>\n",
       "    <tr>\n",
       "      <th>75%</th>\n",
       "      <td>1.121804e+06</td>\n",
       "      <td>1178.000000</td>\n",
       "      <td>144657.500000</td>\n",
       "      <td>31.000000</td>\n",
       "      <td>2.217690e+05</td>\n",
       "      <td>37.500000</td>\n",
       "      <td>60.025000</td>\n",
       "      <td>3.000000</td>\n",
       "      <td>1.000000</td>\n",
       "    </tr>\n",
       "    <tr>\n",
       "      <th>max</th>\n",
       "      <td>1.314415e+06</td>\n",
       "      <td>1178.000000</td>\n",
       "      <td>179982.000000</td>\n",
       "      <td>114.000000</td>\n",
       "      <td>3.052003e+06</td>\n",
       "      <td>421.000000</td>\n",
       "      <td>639.949998</td>\n",
       "      <td>60.000000</td>\n",
       "      <td>21.000000</td>\n",
       "    </tr>\n",
       "  </tbody>\n",
       "</table>\n",
       "</div>"
      ],
      "text/plain": [
       "              ad_id  xyz_campaign_id  fb_campaign_id     interest  \\\n",
       "count  1.143000e+03      1143.000000     1143.000000  1143.000000   \n",
       "mean   9.872611e+05      1067.382327   133783.989501    32.766404   \n",
       "std    1.939928e+05       121.629393    20500.308622    26.952131   \n",
       "min    7.087460e+05       916.000000   103916.000000     2.000000   \n",
       "25%    7.776325e+05       936.000000   115716.000000    16.000000   \n",
       "50%    1.121185e+06      1178.000000   144549.000000    25.000000   \n",
       "75%    1.121804e+06      1178.000000   144657.500000    31.000000   \n",
       "max    1.314415e+06      1178.000000   179982.000000   114.000000   \n",
       "\n",
       "        Impressions       Clicks        Spent  Total_Conversion  \\\n",
       "count  1.143000e+03  1143.000000  1143.000000       1143.000000   \n",
       "mean   1.867321e+05    33.390201    51.360656          2.855643   \n",
       "std    3.127622e+05    56.892438    86.908418          4.483593   \n",
       "min    8.700000e+01     0.000000     0.000000          0.000000   \n",
       "25%    6.503500e+03     1.000000     1.480000          1.000000   \n",
       "50%    5.150900e+04     8.000000    12.370000          1.000000   \n",
       "75%    2.217690e+05    37.500000    60.025000          3.000000   \n",
       "max    3.052003e+06   421.000000   639.949998         60.000000   \n",
       "\n",
       "       Approved_Conversion  \n",
       "count          1143.000000  \n",
       "mean              0.944007  \n",
       "std               1.737708  \n",
       "min               0.000000  \n",
       "25%               0.000000  \n",
       "50%               1.000000  \n",
       "75%               1.000000  \n",
       "max              21.000000  "
      ]
     },
     "execution_count": 95,
     "metadata": {},
     "output_type": "execute_result"
    }
   ],
   "source": [
    "fb_data.describe()\n",
    "# from the table we can get the ranges of the variables. we can also see that max no.people who bought after seeing the ad is 21\n",
    "# max amount spent by xyz company is 639.94\n",
    "# we can draw plots for better picturising the trends of the variables."
   ]
  },
  {
   "cell_type": "code",
   "execution_count": 96,
   "metadata": {},
   "outputs": [
    {
     "data": {
      "text/html": [
       "<div>\n",
       "<style scoped>\n",
       "    .dataframe tbody tr th:only-of-type {\n",
       "        vertical-align: middle;\n",
       "    }\n",
       "\n",
       "    .dataframe tbody tr th {\n",
       "        vertical-align: top;\n",
       "    }\n",
       "\n",
       "    .dataframe thead th {\n",
       "        text-align: right;\n",
       "    }\n",
       "</style>\n",
       "<table border=\"1\" class=\"dataframe\">\n",
       "  <thead>\n",
       "    <tr style=\"text-align: right;\">\n",
       "      <th></th>\n",
       "      <th>gender</th>\n",
       "      <th>Impressions</th>\n",
       "      <th>Clicks</th>\n",
       "      <th>Total_Conversion</th>\n",
       "      <th>Approved_Conversion</th>\n",
       "    </tr>\n",
       "  </thead>\n",
       "  <tbody>\n",
       "    <tr>\n",
       "      <th>0</th>\n",
       "      <td>M</td>\n",
       "      <td>7350</td>\n",
       "      <td>1</td>\n",
       "      <td>2</td>\n",
       "      <td>1</td>\n",
       "    </tr>\n",
       "    <tr>\n",
       "      <th>1</th>\n",
       "      <td>M</td>\n",
       "      <td>17861</td>\n",
       "      <td>2</td>\n",
       "      <td>2</td>\n",
       "      <td>0</td>\n",
       "    </tr>\n",
       "    <tr>\n",
       "      <th>2</th>\n",
       "      <td>M</td>\n",
       "      <td>693</td>\n",
       "      <td>0</td>\n",
       "      <td>1</td>\n",
       "      <td>0</td>\n",
       "    </tr>\n",
       "    <tr>\n",
       "      <th>3</th>\n",
       "      <td>M</td>\n",
       "      <td>4259</td>\n",
       "      <td>1</td>\n",
       "      <td>1</td>\n",
       "      <td>0</td>\n",
       "    </tr>\n",
       "    <tr>\n",
       "      <th>4</th>\n",
       "      <td>M</td>\n",
       "      <td>4133</td>\n",
       "      <td>1</td>\n",
       "      <td>1</td>\n",
       "      <td>1</td>\n",
       "    </tr>\n",
       "    <tr>\n",
       "      <th>...</th>\n",
       "      <td>...</td>\n",
       "      <td>...</td>\n",
       "      <td>...</td>\n",
       "      <td>...</td>\n",
       "      <td>...</td>\n",
       "    </tr>\n",
       "    <tr>\n",
       "      <th>1138</th>\n",
       "      <td>F</td>\n",
       "      <td>1129773</td>\n",
       "      <td>252</td>\n",
       "      <td>13</td>\n",
       "      <td>2</td>\n",
       "    </tr>\n",
       "    <tr>\n",
       "      <th>1139</th>\n",
       "      <td>F</td>\n",
       "      <td>637549</td>\n",
       "      <td>120</td>\n",
       "      <td>3</td>\n",
       "      <td>0</td>\n",
       "    </tr>\n",
       "    <tr>\n",
       "      <th>1140</th>\n",
       "      <td>F</td>\n",
       "      <td>151531</td>\n",
       "      <td>28</td>\n",
       "      <td>2</td>\n",
       "      <td>0</td>\n",
       "    </tr>\n",
       "    <tr>\n",
       "      <th>1141</th>\n",
       "      <td>F</td>\n",
       "      <td>790253</td>\n",
       "      <td>135</td>\n",
       "      <td>8</td>\n",
       "      <td>2</td>\n",
       "    </tr>\n",
       "    <tr>\n",
       "      <th>1142</th>\n",
       "      <td>F</td>\n",
       "      <td>513161</td>\n",
       "      <td>114</td>\n",
       "      <td>5</td>\n",
       "      <td>2</td>\n",
       "    </tr>\n",
       "  </tbody>\n",
       "</table>\n",
       "<p>1143 rows × 5 columns</p>\n",
       "</div>"
      ],
      "text/plain": [
       "     gender  Impressions  Clicks  Total_Conversion  Approved_Conversion\n",
       "0         M         7350       1                 2                    1\n",
       "1         M        17861       2                 2                    0\n",
       "2         M          693       0                 1                    0\n",
       "3         M         4259       1                 1                    0\n",
       "4         M         4133       1                 1                    1\n",
       "...     ...          ...     ...               ...                  ...\n",
       "1138      F      1129773     252                13                    2\n",
       "1139      F       637549     120                 3                    0\n",
       "1140      F       151531      28                 2                    0\n",
       "1141      F       790253     135                 8                    2\n",
       "1142      F       513161     114                 5                    2\n",
       "\n",
       "[1143 rows x 5 columns]"
      ]
     },
     "execution_count": 96,
     "metadata": {},
     "output_type": "execute_result"
    }
   ],
   "source": [
    "col_of_interest = ['gender','Impressions','Clicks','Total_Conversion','Approved_Conversion']\n",
    "fb_data1 = fb_data[col_of_interest]  \n",
    "fb_data1\n",
    "# required coloumns are selected to analyse to which gender the no. of impressions were shown more, likewise with\n",
    "#clicks, total conversion and approved conversion."
   ]
  },
  {
   "cell_type": "code",
   "execution_count": 97,
   "metadata": {},
   "outputs": [
    {
     "data": {
      "text/html": [
       "<div>\n",
       "<style scoped>\n",
       "    .dataframe tbody tr th:only-of-type {\n",
       "        vertical-align: middle;\n",
       "    }\n",
       "\n",
       "    .dataframe tbody tr th {\n",
       "        vertical-align: top;\n",
       "    }\n",
       "\n",
       "    .dataframe thead th {\n",
       "        text-align: right;\n",
       "    }\n",
       "</style>\n",
       "<table border=\"1\" class=\"dataframe\">\n",
       "  <thead>\n",
       "    <tr style=\"text-align: right;\">\n",
       "      <th></th>\n",
       "      <th>Impressions</th>\n",
       "      <th>Clicks</th>\n",
       "      <th>Total_Conversion</th>\n",
       "      <th>Approved_Conversion</th>\n",
       "    </tr>\n",
       "    <tr>\n",
       "      <th>gender</th>\n",
       "      <th></th>\n",
       "      <th></th>\n",
       "      <th></th>\n",
       "      <th></th>\n",
       "    </tr>\n",
       "  </thead>\n",
       "  <tbody>\n",
       "    <tr>\n",
       "      <th>F</th>\n",
       "      <td>208462.517241</td>\n",
       "      <td>43.335753</td>\n",
       "      <td>2.983666</td>\n",
       "      <td>0.898367</td>\n",
       "    </tr>\n",
       "    <tr>\n",
       "      <th>M</th>\n",
       "      <td>166506.724662</td>\n",
       "      <td>24.133446</td>\n",
       "      <td>2.736486</td>\n",
       "      <td>0.986486</td>\n",
       "    </tr>\n",
       "  </tbody>\n",
       "</table>\n",
       "</div>"
      ],
      "text/plain": [
       "          Impressions     Clicks  Total_Conversion  Approved_Conversion\n",
       "gender                                                                 \n",
       "F       208462.517241  43.335753          2.983666             0.898367\n",
       "M       166506.724662  24.133446          2.736486             0.986486"
      ]
     },
     "execution_count": 97,
     "metadata": {},
     "output_type": "execute_result"
    }
   ],
   "source": [
    "df2 = fb_data1.groupby(by='gender').mean()\n",
    "df2"
   ]
  },
  {
   "cell_type": "code",
   "execution_count": 98,
   "metadata": {},
   "outputs": [
    {
     "data": {
      "image/png": "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\n",
      "text/plain": [
       "<Figure size 576x396 with 1 Axes>"
      ]
     },
     "metadata": {},
     "output_type": "display_data"
    },
    {
     "data": {
      "image/png": "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\n",
      "text/plain": [
       "<Figure size 576x396 with 1 Axes>"
      ]
     },
     "metadata": {},
     "output_type": "display_data"
    },
    {
     "data": {
      "image/png": "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\n",
      "text/plain": [
       "<Figure size 576x396 with 1 Axes>"
      ]
     },
     "metadata": {},
     "output_type": "display_data"
    },
    {
     "data": {
      "image/png": "iVBORw0KGgoAAAANSUhEUgAAAeEAAAFWCAYAAABehSXDAAAAOXRFWHRTb2Z0d2FyZQBNYXRwbG90bGliIHZlcnNpb24zLjMuMiwgaHR0cHM6Ly9tYXRwbG90bGliLm9yZy8vihELAAAACXBIWXMAAAsTAAALEwEAmpwYAAAY3UlEQVR4nO3df1jUdb738RczAwgNAm2o2yoYJP2ybkTrHCuORkuua1rEtqPrrV5XnjyddE8n0U3bYIkMSLN0/VFZW6lp4nraFMpSljreuafdINHD6VY3Na5r3W1DF8oZkgFnzh/umV2O0dQKvgWej79mvp/hO2+Ga3zyHWe+RASDwaAAAMA557AeAACAvooIAwBghAgDAGCECAMAYIQIAwBgxHWu77Cx8cS5vkt0ocTEWDU1tViPAfQ5PPd6tqSkuC/czpEwvhaXy2k9AtAn8dzrnYgwAABGiDAAAEaIMAAARogwAABGiDAAAEaIMAAARr5ShPfu3atp06adsb26ulp5eXnyeDzavHlzlw8HAEBvFvZkHc8++6y2bdummJiYDtvb2tpUWlqqLVu2KCYmRlOmTNFNN92kpKSksx7qrrLqs97HX3t+QXaX7g8AgK4Q9kg4OTlZK1asOGP7oUOHlJycrPj4eEVFRWnkyJGqqanpliHPpZdeelG33TZOra2t1qN0MGnSuC9db21t1cqVy3Tvvf+o2bPv1rx5/6I//vHjczTdF1u//kV98EG96QwAcD4LeyQ8btw4/e53vztju9frVVzcX07DdcEFF8jr9Ya9w8TE2HN+5pfOThf2Raqrd+jWW2/Vb36zS3fccUc3TvX1OBwRX/p9FBYuUWpqqh5+uECStHPnTj3yyEMqLy/v8lm+6uM5d+4Pu/y+gb7s6/xbhp7hbz53tNvtls/nC133+XwdotwZi3OfftXzVb//fo0GDrxY48ZNVHFxobKycjRnziylpAxVQ8NHkqSHHy5RQ8NHWrfueTkcDh0/flyTJuUqL+/7mjNnlhISEnXixAktWbJMjz32iI4ePapTp05p8uSpGjnyOs2e/Y966aWfKyIiQkuXPqZRo67T4MFDtGzZEgWDQcXHx2vhwp8oJiZGixc/qiNHDutb3xqskydbO/0+2traVFVVpVdffSN0m4yMv9ejj16uxsYTeu+9d7VmzVOKjo5W//7xWriwUL/97QFt2LBOkZEu/eEPv1d2do6mTp2hqVO/pxdffFkxMTHauHGdnE6nxo69WYsXl8jvb5XbHat//dcHFAgE9MAD96t//3iNHn2DYmJitX17pRwOh665JkOzZ9+nRx8t0s0336JRo65TaenDHR6Lm2++RXPmzNKwYZfp8OFDamnx6pFHHtOgQd/skp850NskJcVx7v0erMvPHZ2WlqaGhgY1NzfL7/erpqZGI0aM+JsHPB9UVm7VxIm3Kzl5qCIjI/Vf/3X6pdThw6/RypVrlJ2do/XrX5AkHTvWqLKyJ7RmzQvavHmjmpr+JEnKyfmOli9frYqKXyg+PkFPP/28li9frWeffUqSlJY2THv37pHf79eePbW64YYsPfbYIs2d+4BWrlyj0aNv0IYNa/Xuu7+S3+/XmjUv6p/+aY5aW092Ovenn36qCy/8hiIiIjpsj49PUDAY1OLFJSopWaKVK9coIyNTa9f+TJL0xz/+QYsWLdbTT7+gjRvXyeVyacyYbL399i8lSVVVO/Sd70zQqlXL9b3vebRixTOaOXOmnn56pSTpT386riefXKWpU2fo9dcrdN998/TMMy/o4ou/pfb29tAcW7f+2xmPRXNzsyTpiiuu0vLlqzVq1N9p5843z/ZHCAA9ytc+Eq6oqFBLS4s8Ho8WLFigmTNnKhgMKi8vTwMHDuyOGc+Jzz77TP/xH7vV1PQnbdlSLp/Pq1deOf1S7siR10qSrr76Gr3zzr9LOh3mqKgoSVJqapqOHj39kn1ycook6aOPPtKoUddJkmJjL9DQoZfo6NHfaeLE27V9e6WOHz+uG2/8B7lcLjU0HNHSpWWSpFOn2jVkSIqOHDmkK664SpI0aNAgDRjQ+WObkJAgr9erYDDYIcQ7dryha6/9O8XGXqCkpAGSpIyMEXrmmdW6/voblZp6qVwul1wul6Kj+0mSJk68XY8/XqaUlKEaMiRZ8fEJOnz4Q61f/4I2bFiryEingsHT9/HNb16syMhISdKDDxbq5Zdf0tNPr9BVV13dYb7OHgtJSk+/TJI0cOBAHT9+/Cv/vACgN/hKER48eHDoI0gTJ04Mbc/OzlZ2du945/GOHa/r1ltv0+zZ90mSTp48qTvvnKT4+AQdOPD/NWDAQO3bt1eXXJIqSfrtbw/q1KlTamtr05EjhzV4cLIkyeE4/eLC0KFDtW/fHo0Zc5NaWnw6dOiQLr74YiUkJOqpp36qxsZGzZ37I0mnw/3QQ8UaNGiQ9u2r0/Hjx+RyuVRV9aakKTp2rFGNjY2dzu5yuXTddX+vLVvKdeedkyVJb71VpZ//fKNycsappcWnY8eO6aKLLlJd3fsaMuT0rP/rwFmS/rwW1MaN65Wb+70/zzdUU6b8X1199f/RZ599ourq//fnr//LCynbtr2qefMWKjo6WnPnztF//ufe0Fpnj8XpfXzBEMDfoKs/VYFzq69+iuWc/z3hr8Lih1FRsVUFBcWh6/369dOYMdmqrHxVr79eqfLyjerXr58KCop16NCHam9v17x5/6JPP/1UM2bMVEJCQof9TZp0hx57bJH++Z9nqrW1VXfddbcSEy+UJI0de7Nqan6jwYOHSJLy8xdq0aJCBQIBSdKCBQVKTk7Rvn17dffdMzRo0DfP2P//9sMfztWKFU/onnvuUkSEFBfXX4sWLVZERIR+9KMf68c/ni+HI0Jxcf314INFOnz4w073NWHCbXruuaeUmTlKkjR79n1aurRMfr9fp061afbs+8/4mrS0S3X33dOVkJCopKQkXXnlcL3+ekXYxwIA+rKIYDAYPJd32NPeWDBnzizNn/+gUlKGhra9/36Ntm79Nz38cKndYEZ4cwjOVxwJ92y9/Ui4szdmnZdHwvhi77zz79q0acMZ2++8c4rGjLnJYCIAwNngSBhfC0fCOF9xJNyz9dUjYf6AAwAARogwAABGiDAAAEaIMAAARogwAABGiDAAAEaIMAAARogwAABGiDAAAEaIMAAARogwAABGiDAAAEaIMAAARogwAABGiDAAAEaIMAAARogwAABGiDAAAEaIMAAARogwAABGXNYD9DZ3lVVbj4Cz8PyCbOsRAPQhHAkDAGCECAMAYIQIAwBghAgDAGCECAMAYIQIAwBghAgDAGCECAMAYIQIAwBghAgDAGCECAMAYIQIAwBghAgDAGCECAMAYIQIAwBghAgDAGCECAMAYIQIAwBghAgDAGCECAMAYIQIAwBghAgDAGCECAMAYIQIAwBghAgDAGAkbIQDgYAKCwvl8Xg0bdo0NTQ0dFjftm2bcnNzlZeXp40bN3bboAAA9DaucDeoqqqS3+9XeXm56urqVFZWpqeeeiq0vnjxYlVWVio2NlYTJkzQhAkTFB8f361DAwDQG4SNcG1trbKysiRJGRkZqq+v77B+2WWX6cSJE3K5XAoGg4qIiOieSQEA6GXCRtjr9crtdoeuO51Otbe3y+U6/aXDhg1TXl6eYmJilJOTo/79+3/p/hITY+VyOc9ybKB7JCXFWY8A9El99bkXNsJut1s+ny90PRAIhAK8f/9+vf322/rlL3+p2NhYzZ8/X9u3b9f48eM73V9TU0sXjA10j8bGE9YjAH1Sb3/udfZLRtg3ZmVmZmrXrl2SpLq6OqWnp4fW4uLi1K9fP0VHR8vpdOrCCy/UZ5991kUjAwDQu4U9Es7JydHu3bs1efJkBYNBlZSUqKKiQi0tLfJ4PPJ4PPrBD36gyMhIJScnKzc391zMDQBAjxc2wg6HQ8XFxR22paWlhS5PmTJFU6ZM6frJAADo5ThZBwAARogwAABGiDAAAEaIMAAARogwAABGiDAAAEaIMAAARogwAABGiDAAAEaIMAAARogwAABGiDAAAEaIMAAARogwAABGiDAAAEaIMAAARogwAABGiDAAAEaIMAAARogwAABGiDAAAEaIMAAARogwAABGiDAAAEaIMAAARogwAABGiDAAAEaIMAAARogwAABGiDAAAEaIMAAARogwAABGiDAAAEaIMAAARogwAABGiDAAAEaIMAAARogwAABGiDAAAEaIMAAARogwAABGiDAAAEaIMAAARogwAABGiDAAAEaIMAAARogwAABGiDAAAEaIMAAARlzhbhAIBFRUVKQDBw4oKipKixYtUkpKSmh93759KisrUzAYVFJSkpYsWaLo6OhuHRoAgN4g7JFwVVWV/H6/ysvLlZ+fr7KystBaMBhUQUGBSktL9fLLLysrK0tHjx7t1oEBAOgtwh4J19bWKisrS5KUkZGh+vr60NqRI0eUkJCgtWvX6uDBgxozZoxSU1O7b1oAAHqRsBH2er1yu92h606nU+3t7XK5XGpqatKePXtUUFCglJQU3XPPPRo+fLhGjx7d6f4SE2Plcjm7ZnqgiyUlxVmPAPRJffW5FzbCbrdbPp8vdD0QCMjlOv1lCQkJSklJ0aWXXipJysrKUn19/ZdGuKmp5WxnBrpNY+MJ6xGAPqm3P/c6+yUj7P8JZ2ZmateuXZKkuro6paenh9aGDBkin8+nhoYGSVJNTY2GDRvWFfMCANDrhT0SzsnJ0e7duzV58mQFg0GVlJSooqJCLS0t8ng8evTRR5Wfn69gMKgRI0Zo7Nix52BsAAB6vrARdjgcKi4u7rAtLS0tdHn06NHasmVL108GAEAvx8k6AAAwQoQBADBChAEAMEKEAQAwQoQBADBChAEAMEKEAQAwQoQBADBChAEAMEKEAQAwQoQBADBChAEAMEKEAQAwQoQBADBChAEAMEKEAQAwQoQBADBChAEAMEKEAQAwQoQBADBChAEAMEKEAQAwQoQBADBChAEAMEKEAQAwQoQBADBChAEAMEKEAQAwQoQBADBChAEAMEKEAQAwQoQBADBChAEAMEKEAQAwQoQBADBChAEAMEKEAQAwQoQBADBChAEAMEKEAQAwQoQBADBChAEAMEKEAQAwQoQBADBChAEAMEKEAQAwQoQBADBChAEAMEKEAQAwQoQBADASNsKBQECFhYXyeDyaNm2aGhoavvB2BQUFevzxx7t8QAAAequwEa6qqpLf71d5ebny8/NVVlZ2xm02bdqkgwcPdsuAAAD0VmEjXFtbq6ysLElSRkaG6uvrO6zv2bNHe/fulcfj6Z4JAQDopVzhbuD1euV2u0PXnU6n2tvb5XK59Mknn2jlypVauXKltm/f/pXuMDExVi6X82+fGOhGSUlx1iMAfVJffe6FjbDb7ZbP5wtdDwQCcrlOf9kbb7yhpqYmzZo1S42NjTp58qRSU1N1xx13dLq/pqaWLhgb6B6NjSesRwD6pN7+3Ovsl4ywEc7MzNRbb72l7373u6qrq1N6enpobfr06Zo+fbok6ZVXXtHhw4e/NMAAAOAvwkY4JydHu3fv1uTJkxUMBlVSUqKKigq1tLTw/8AAAJyFsBF2OBwqLi7usC0tLe2M23EEDADA18PJOgAAMEKEAQAwQoQBADBChAEAMEKEAQAwQoQBADBChAEAMEKEAQAwQoQBADBChAEAMEKEAQAwQoQBADBChAEAMEKEAQAwQoQBADBChAEAMEKEAQAwQoQBADBChAEAMEKEAQAwQoQBADBChAEAMEKEAQAwQoQBADBChAEAMEKEAQAwQoQBADBChAEAMEKEAQAwQoQBADBChAEAMEKEAQAwQoQBADBChAEAMEKEAQAwQoQBADBChAEAMEKEAQAwQoQBADBChAEAMEKEAQAwQoQBADBChAEAMEKEAQAwQoQBADBChAEAMEKEAQAwQoQBADBChAEAMEKEAQAw4gp3g0AgoKKiIh04cEBRUVFatGiRUlJSQuuVlZVau3atnE6n0tPTVVRUJIeDtgMAEE7YWlZVVcnv96u8vFz5+fkqKysLrZ08eVLLli3TunXrtGnTJnm9Xr311lvdOjAAAL1F2AjX1tYqKytLkpSRkaH6+vrQWlRUlDZt2qSYmBhJUnt7u6Kjo7tpVAAAepewL0d7vV653e7QdafTqfb2drlcLjkcDl100UWSpPXr16ulpUU33HDDl+4vMTFWLpfzLMcGukdSUpz1CECf1Fefe2Ej7Ha75fP5QtcDgYBcLleH60uWLNGRI0e0YsUKRUREfOn+mppazmJcoHs1Np6wHgHok3r7c6+zXzLCvhydmZmpXbt2SZLq6uqUnp7eYb2wsFCtra1avXp16GVpAAAQXtgj4ZycHO3evVuTJ09WMBhUSUmJKioq1NLSouHDh2vLli0aNWqUZsyYIUmaPn26cnJyun1wAAB6urARdjgcKi4u7rAtLS0tdHn//v1dPxUAAH0AH+gFAMAIEQYAwAgRBgDACBEGAMAIEQYAwAgRBgDACBEGAMAIEQYAwAgRBgDACBEGAMAIEQYAwAgRBgDACBEGAMAIEQYAwAgRBgDACBEGAMAIEQYAwAgRBgDACBEGAMAIEQYAwAgRBgDACBEGAMAIEQYAwAgRBgDACBEGAMAIEQYAwAgRBgDACBEGAMAIEQYAwAgRBgDACBEGAMAIEQYAwAgRBgDACBEGAMAIEQYAwAgRBgDACBEGAMAIEQYAwAgRBgDACBEGAMAIEQYAwAgRBgDACBEGAMAIEQYAwAgRBgDACBEGAMAIEQYAwAgRBgDACBEGAMAIEQYAwEjYCAcCARUWFsrj8WjatGlqaGjosF5dXa28vDx5PB5t3ry52wYFAKC3CRvhqqoq+f1+lZeXKz8/X2VlZaG1trY2lZaW6vnnn9f69etVXl6uxsbGbh0YAIDewhXuBrW1tcrKypIkZWRkqL6+PrR26NAhJScnKz4+XpI0cuRI1dTUaPz48Z3uLykp7mxnPq9VLL3NegSgT+K5h54o7JGw1+uV2+0OXXc6nWpvbw+txcX9JaoXXHCBvF5vN4wJAEDvEzbCbrdbPp8vdD0QCMjlcn3hms/n6xBlAADQubARzszM1K5duyRJdXV1Sk9PD62lpaWpoaFBzc3N8vv9qqmp0YgRI7pvWgAAepGIYDAY/LIbBAIBFRUV6eDBgwoGgyopKdEHH3yglpYWeTweVVdXa9WqVQoGg8rLy9PUqVPP1ewAAPRoYSMMAAC6ByfrAADACBEGAMAIEQYAwAgRRqdWr14duvzJJ58YTgIAvVPYM2ah73r33Xd17733SpLmzZundevWGU8E9A0LFy7sdK20tPQcToLuRoTRqb9+4zxvogfOnfr6ep08eVKTJk3SiBEjeP71YrwcjU5FRER84WUA3auiokKrVq1Sa2ur1qxZo7q6OiUnJ4fO44/eg88Jo1MjR47UsGHDFAwG9eGHH4YuR0REaNOmTdbjAX3Ge++9p/Xr1+vjjz/mT8b2MrwcjU5t27bNegSgT/N6vdq5c6cqKyv1+eefa9KkSdYjoYtxJAwA55nt27frtdde0+9//3vdcsstuvXWWzV48GDrsdANiDAAnGcuv/xypaam6vLLL5fU8T0ZS5cutRoL3YCXowHgPMPHAfsOjoQBADDCR5QAADBChAEAMEKEgT7s17/+taZNm2Y9BtBnEWEAAIzw7migB1m6dKnefPNNJSYmKikpSdnZ2XI4HFq7dq0CgYCuuuoq/eQnP1F0dLRuvPFGjRs3TrW1tXI6nVq2bJmGDBmid955R6WlpYqOjtYll1wS2ndDQ4OKiorU3Nysfv36qaCgQFdeeaUWLFig5uZmNTQ0aP78+crOzjZ8BIDehSNhoIeorq5WbW2tKisrtWbNGn3wwQf6/PPPtXnzZm3atElbt27VN77xDf3sZz+TJDU2Nmr06NF69dVXde2112rDhg3y+/1asGCBfvrTn+qVV15Rv379Qvt/4IEHNH/+fP3iF7/QI488ovvvvz+0lpCQoO3btxNgoItxJAz0EL/61a80fvx4RUVFKSoqSt/+9rcVDAbV0NCg73//+5KktrY2XXnllaGv+Z8T/g8bNkw1NTU6cOCABgwYoLS0NElSbm6uli9fLp/Pp/r6+g5/Qq+lpUVNTU2SpGuuueZcfZtAn0KEgR7C4XAoEAh02Hbq1CmNHz9eDz30kCTJ5/Pp1KlTofXo6GhJp8+49D9/fOOvTw3gdDolSYFAQFFRUdq6dWto7eOPP1ZCQoIkdThiBtB1eDka6CGuv/567dixQ36/X16vV2+//bZOnDihnTt36vjx4woGgyoqKtLatWs73cdll12mY8eOaf/+/ZKk1157TZIUFxenoUOHhiK8e/duTZ06tfu/KaCP40gY6CHGjh2rPXv2KDc3V/Hx8RowYIBSU1M1Z84czZgxQ4FAQFdccYVmzZrV6T4iIyP1xBNPaP78+XK5XB1eul6yZImKior03HPPKTIyUk8++SR/RxroZpy2Eugh9uzZo48++ki5ublqa2uTx+NRSUlJ6CT/AHoeIgz0EM3NzcrPz1djY6OCwaBuv/12zZw503osAGeBCAMAYIQ3ZgEAYIQIAwBghAgDAGCECAMAYIQIAwBg5L8B4n2cPB2FWm0AAAAASUVORK5CYII=\n",
      "text/plain": [
       "<Figure size 576x396 with 1 Axes>"
      ]
     },
     "metadata": {},
     "output_type": "display_data"
    }
   ],
   "source": [
    "_ = df2.plot(y=['Impressions'], kind='bar')\n",
    "plt.show()\n",
    "plt.close()\n",
    "__= df2.plot(y=['Clicks'], kind = 'bar')\n",
    "plt.show()\n",
    "plt.close()\n",
    "___= df2.plot(y=['Total_Conversion'], kind='bar')\n",
    "plt.show()\n",
    "plt.close()\n",
    "____= df2.plot(y=['Approved_Conversion'], kind='bar')\n",
    "plt.show()\n",
    "plt.close()\n"
   ]
  },
  {
   "cell_type": "code",
   "execution_count": 99,
   "metadata": {},
   "outputs": [
    {
     "name": "stdout",
     "output_type": "stream",
     "text": [
      "probability of an ad having one click:10.411198600174979%\n"
     ]
    }
   ],
   "source": [
    "#Part-A statstical Infrencing Task\n",
    "# 1 .1Probability of an ad having one click\n",
    "fb_data[fb_data['Clicks']==1]\n",
    "pb_1 = len(fb_data[fb_data['Clicks']==1])*100/len(fb_data)\n",
    "print('probability of an ad having one click:{}%'.format(pb_1))"
   ]
  },
  {
   "cell_type": "code",
   "execution_count": 100,
   "metadata": {},
   "outputs": [
    {
     "name": "stdout",
     "output_type": "stream",
     "text": [
      "probability of an ad showed to Male:51.79352580927384%\n"
     ]
    }
   ],
   "source": [
    "# 1.2Probability of an ad showed to Male\n",
    "fb_data[fb_data['gender']=='M']\n",
    "pb_m = len(fb_data[fb_data['gender']=='M'])*100/len(fb_data)\n",
    "print('probability of an ad showed to Male:{}%'.format(pb_m))"
   ]
  },
  {
   "cell_type": "code",
   "execution_count": 101,
   "metadata": {},
   "outputs": [
    {
     "name": "stdout",
     "output_type": "stream",
     "text": [
      "probability of an ad showed to Female:48.20647419072616%\n"
     ]
    }
   ],
   "source": [
    "#1.3Probability of an ad showed to Female\n",
    "fb_data[fb_data['gender']=='F']\n",
    "pb_f = len(fb_data[fb_data['gender']=='F'])*100/len(fb_data)\n",
    "print('probability of an ad showed to Female:{}%'.format(pb_f))"
   ]
  },
  {
   "cell_type": "code",
   "execution_count": 102,
   "metadata": {},
   "outputs": [
    {
     "name": "stdout",
     "output_type": "stream",
     "text": [
      "probability of an ad having one click and it is shown to Male:5.336832895888014%\n"
     ]
    }
   ],
   "source": [
    "#1.6Probability of an ad having one click and it is shown to Male\n",
    "fb_data[(fb_data['gender']=='M') & (fb_data['Clicks']== 1)]\n",
    "pb1_m = len(fb_data[(fb_data['gender']=='M') & (fb_data['Clicks']== 1)])*100/len(fb_data)\n",
    "print('probability of an ad having one click and it is shown to Male:{}%'.format(pb1_m))"
   ]
  },
  {
   "cell_type": "code",
   "execution_count": 103,
   "metadata": {},
   "outputs": [
    {
     "name": "stdout",
     "output_type": "stream",
     "text": [
      "Probability of an ad having one-click given that it is shown to Male:10.304054054054054%\n"
     ]
    }
   ],
   "source": [
    "#1.4Probability of an ad having one-click given that it is shown to Male\n",
    "fb_data[(fb_data['gender']=='M') & (fb_data['Clicks']== 1)]\n",
    "pb1intm = len(fb_data[(fb_data['gender']=='M') & (fb_data['Clicks']== 1)])*100/len(fb_data)\n",
    "pbm = len(fb_data[fb_data['gender']=='M'])*100/len(fb_data)\n",
    "pb_reslt_m = pb1intm*100/pbm\n",
    "print('Probability of an ad having one-click given that it is shown to Male:{}%'.format(pb_reslt_m))"
   ]
  },
  {
   "cell_type": "code",
   "execution_count": 104,
   "metadata": {},
   "outputs": [
    {
     "name": "stdout",
     "output_type": "stream",
     "text": [
      "Probability of an ad having one-click given that it is shown to Female:10.526315789473683%\n"
     ]
    }
   ],
   "source": [
    "#1.5Probability of an ad having one click given that it is shown to Female\n",
    "fb_data[(fb_data['gender']=='F') & (fb_data['Clicks']== 1)]\n",
    "pb1intf = len(fb_data[(fb_data['gender']=='F') & (fb_data['Clicks']== 1)])*100/len(fb_data)\n",
    "pbf = len(fb_data[fb_data['gender']=='F'])*100/len(fb_data)\n",
    "pb_reslt_f = pb1intf*100/pbf\n",
    "print('Probability of an ad having one-click given that it is shown to Female:{}%'.format(pb_reslt_f))"
   ]
  },
  {
   "cell_type": "code",
   "execution_count": 105,
   "metadata": {},
   "outputs": [],
   "source": [
    "#1.7 to check for independence of the events. to check if the event of gender=male and event of click=1 shows equality on the product of \n",
    "#of their probabilities\n"
   ]
  },
  {
   "cell_type": "code",
   "execution_count": 106,
   "metadata": {},
   "outputs": [
    {
     "name": "stdout",
     "output_type": "stream",
     "text": [
      "an ad having one click is independent of the events that the ad is shown to Male, \n"
     ]
    }
   ],
   "source": [
    "x =pb1_m/100\n",
    "y = pb_1/100\n",
    "z = pb_m/100\n",
    "x = round(x,3)\n",
    "# x is probability of intersection of the ad click is one and shown to male\n",
    "# y is probability of ad click is one\n",
    "# z is probability of ad shown to male\n",
    "\n",
    "if(y*z == x or 0.0539):\n",
    "    print(\"an ad having one click is independent of the events that the ad is shown to Male, \")\n",
    "else:\n",
    "    print(\" ad having one click is dependent of the events that the ad is shown to Male\")   \n",
    "# since the product of 'y*z' value is very much close to the 'x' it can be concluded that the event ad with one click is independent to\n",
    "# event ad shown to male"
   ]
  },
  {
   "cell_type": "code",
   "execution_count": 107,
   "metadata": {},
   "outputs": [
    {
     "name": "stdout",
     "output_type": "stream",
     "text": [
      "an ad having one click is independent of the events that the ad is shown to female\n"
     ]
    }
   ],
   "source": [
    "# similar to the previous case, now to check the independancy of one click event with ad shown to female event.\n",
    "a = pb1intf/100\n",
    "y = pb_1/100\n",
    "c = pb_f/100\n",
    "#a is probablity of intersection of the ad click is one and ad shown to female\n",
    "#y is probability of ad click is one\n",
    "#c is probability of as shown to female\n",
    "if(y*c == a or 0.05074):\n",
    "    print(\"an ad having one click is independent of the events that the ad is shown to female\")\n",
    "else:\n",
    "    print(\"ad having one click is dependent of the events that the ad is shown to female\")\n",
    "#since the product of 'y*c' value is very much close to the 'a' it can be concluded that the event ad with one click is independent to\n",
    "# event ad shownn to female"
   ]
  },
  {
   "cell_type": "code",
   "execution_count": 108,
   "metadata": {},
   "outputs": [
    {
     "name": "stdout",
     "output_type": "stream",
     "text": [
      "mean value of a click on an ad:33.39020122484689\n",
      "standard deviation value of a click on an ad:56.89243830355751\n"
     ]
    }
   ],
   "source": [
    "#2 Compute the mean value of a click on an ad\n",
    "col_ad = fb_data[\"Clicks\"]\n",
    "col_ad.mean()\n",
    "print('mean value of a click on an ad:{}'.format(col_ad.mean()))\n",
    "col_ad.std()\n",
    "print('standard deviation value of a click on an ad:{}'.format(col_ad.std()))"
   ]
  },
  {
   "cell_type": "code",
   "execution_count": 109,
   "metadata": {},
   "outputs": [
    {
     "name": "stdout",
     "output_type": "stream",
     "text": [
      "Case-1\n",
      "mu_low: 30.091861494382062\n",
      "mu_upp: 36.688138505617935\n",
      "on computing for true mean we get the range as 30.091<= mu<= 36.688\n",
      "therefore for 95% CI there is 95% chance that the true mean lies in the interval[30.091,36.688]\n",
      "Case-2\n",
      "mu_low: 29.06540002069485\n",
      "mu_upp: 37.714599979305156\n",
      "on computing for true mean we get the range as 29.0654<= mu <=37.714\n",
      "therefore for 99% CI there is 99% chance that the true mean lies in the interval[29.0654,37.714]\n"
     ]
    }
   ],
   "source": [
    "print(\"Case-1\")\n",
    "#3 Compute 95% and 99% confidence intervals for the true value of a mean click\n",
    "# case-1 for 95% CI. level of significance is 0.05, zα/2 is 0.025\n",
    "mu_low = 33.390-(1.96*56.89/math.sqrt(1143))\n",
    "mu_upp = 33.390+ (1.96*56.89/math.sqrt(1143))\n",
    "print(\"mu_low:\",mu_low)\n",
    "print(\"mu_upp:\",mu_upp)\n",
    "print(\"on computing for true mean we get the range as 30.091<= mu<= 36.688\")\n",
    "## therefore there is 95% chance that the true mean lies in the interval[30.091,36.688]\n",
    "\n",
    "print('therefore for 95% CI there is 95% chance that the true mean lies in the interval[30.091,36.688]')\n",
    "\n",
    "print(\"Case-2\")\n",
    "# case-2 for 99% CI. level of sifnificance is 0.01, zα/2 value is 0.005\n",
    "mu_low_99 = 33.390-(2.57*56.89/math.sqrt(1143))\n",
    "mu_upp_99 = 33.390+ (2.57*56.89/math.sqrt(1143))\n",
    "print(\"mu_low:\",mu_low_99)\n",
    "print(\"mu_upp:\",mu_upp_99)\n",
    "print(\"on computing for true mean we get the range as 29.0654<= mu <=37.714\")\n",
    "## therefore there is 99% chance that the true mean lies in the interval[29.0654,37.714]\n",
    "\n",
    "print('therefore for 99% CI there is 99% chance that the true mean lies in the interval[29.0654,37.714]')"
   ]
  },
  {
   "cell_type": "code",
   "execution_count": 110,
   "metadata": {},
   "outputs": [
    {
     "name": "stdout",
     "output_type": "stream",
     "text": [
      " Null hypothesis is H0: mu = 31\n",
      " Alternate hypothesis is H1: mu != 31\n",
      "Z value on calculating is : 1.4203163366307243\n",
      "The Z value is within the acceptance range hence, H0 not rejected. \n",
      "The Data Scientist can conclude that 95% mean number of clicks on an ad is 31\n"
     ]
    }
   ],
   "source": [
    "import math\n",
    "#4 hypothesis test\n",
    "print(\" Null hypothesis is H0: mu = 31\")\n",
    "print(\" Alternate hypothesis is H1: mu != 31\")\n",
    "# at confidence Interval 95%,zα = 0.05, zα/2 = 0.025 and from Z table Z= 1.96 towards right side and -1.96 towards left side\n",
    "# if Z computation does'nt come within the range, then H0 will be rejected.\n",
    "Z = (33.39-31)/(56.89/math.sqrt(1143))\n",
    "print(\"Z value on calculating is :\",Z)\n",
    "print(\"The Z value is within the acceptance range hence, H0 not rejected. \\nThe Data Scientist can conclude that 95% mean number of clicks on an ad is 31\")"
   ]
  },
  {
   "cell_type": "code",
   "execution_count": 112,
   "metadata": {},
   "outputs": [
    {
     "name": "stdout",
     "output_type": "stream",
     "text": [
      "fit parameters =[0.0, 33.39020122484689]\n"
     ]
    },
    {
     "data": {
      "text/plain": [
       "<matplotlib.legend.Legend at 0x1e670be5eb0>"
      ]
     },
     "execution_count": 112,
     "metadata": {},
     "output_type": "execute_result"
    },
    {
     "data": {
      "image/png": "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\n",
      "text/plain": [
       "<Figure size 576x396 with 1 Axes>"
      ]
     },
     "metadata": {},
     "output_type": "display_data"
    }
   ],
   "source": [
    "#5.1 Fit an exponential pdf\n",
    "s,l=stats.expon.fit(fb_data['Clicks'])\n",
    "print('fit parameters ={}'.format([s,l]))\n",
    "fb_data['Clicks'].hist()\n",
    "x = np.linspace(0,421,2000)\n",
    "plt.plot(x,fb_data['Clicks'].sum()*expon.pdf(x,loc=0, scale=l),label ='Expon dist,' + f' $\\lambda = {round(1/l,4)}$')\n",
    "plt.title('Exponential Fit')\n",
    "plt.xlabel('No. of clicks per ad')\n",
    "plt.ylabel('Frequency')\n",
    "plt.legend()"
   ]
  },
  {
   "cell_type": "code",
   "execution_count": 113,
   "metadata": {},
   "outputs": [
    {
     "name": "stdout",
     "output_type": "stream",
     "text": [
      "probability of number of click exceeding 100 using click data: 10.673665791776028%\n",
      "probability of number of click exceeding 100 using pdf fitted: 5.0042101063916435%\n"
     ]
    }
   ],
   "source": [
    "#5.2 The probability of a number of click exceeding 100 for an ad using,\n",
    "#5.2.1 clicks data\n",
    "\n",
    "click_greater100 = len(fb_data[fb_data['Clicks']>=100])\n",
    "prob_click_greater100 = (click_greater100/len(fb_data))*100\n",
    "print('probability of number of click exceeding 100 using click data: {}%'.format(prob_click_greater100))\n",
    "\n",
    "## 5.2.2 pdf fitted\n",
    "\n",
    "print('probability of number of click exceeding 100 using pdf fitted: {}%'.format(stats.expon.sf(100,loc=0,scale=l)*100))\n"
   ]
  },
  {
   "cell_type": "code",
   "execution_count": 114,
   "metadata": {},
   "outputs": [
    {
     "name": "stdout",
     "output_type": "stream",
     "text": [
      "probability of number of click exceeding 400 using click data: 0.08748906386701662%\n",
      "probability of number of click exceeding 400 using pdf fitted: 0.0006271077134379923%\n"
     ]
    }
   ],
   "source": [
    "# 5.2.3 \n",
    "# 5.2.4 The probability of a number of click exceeding 400 for an ad,\n",
    "click_greater400 = len(fb_data[fb_data['Clicks']>=400])*100\n",
    "prob_click_greater400 = (click_greater400/len(fb_data))\n",
    "print('probability of number of click exceeding 400 using click data: {}%'.format(prob_click_greater400))\n",
    "\n",
    "print('probability of number of click exceeding 400 using pdf fitted: {}%'.format(stats.expon.sf(400,loc=0,scale=l)*100))\n"
   ]
  },
  {
   "cell_type": "code",
   "execution_count": 115,
   "metadata": {},
   "outputs": [
    {
     "data": {
      "text/html": [
       "<div>\n",
       "<style scoped>\n",
       "    .dataframe tbody tr th:only-of-type {\n",
       "        vertical-align: middle;\n",
       "    }\n",
       "\n",
       "    .dataframe tbody tr th {\n",
       "        vertical-align: top;\n",
       "    }\n",
       "\n",
       "    .dataframe thead th {\n",
       "        text-align: right;\n",
       "    }\n",
       "</style>\n",
       "<table border=\"1\" class=\"dataframe\">\n",
       "  <thead>\n",
       "    <tr style=\"text-align: right;\">\n",
       "      <th></th>\n",
       "      <th>ad_id</th>\n",
       "      <th>Spent</th>\n",
       "      <th>Total_Conversion</th>\n",
       "      <th>Approved_Conversion</th>\n",
       "    </tr>\n",
       "  </thead>\n",
       "  <tbody>\n",
       "    <tr>\n",
       "      <th>0</th>\n",
       "      <td>708746</td>\n",
       "      <td>1.430000</td>\n",
       "      <td>2</td>\n",
       "      <td>1</td>\n",
       "    </tr>\n",
       "    <tr>\n",
       "      <th>1</th>\n",
       "      <td>708749</td>\n",
       "      <td>1.820000</td>\n",
       "      <td>2</td>\n",
       "      <td>0</td>\n",
       "    </tr>\n",
       "    <tr>\n",
       "      <th>2</th>\n",
       "      <td>708771</td>\n",
       "      <td>0.000000</td>\n",
       "      <td>1</td>\n",
       "      <td>0</td>\n",
       "    </tr>\n",
       "    <tr>\n",
       "      <th>3</th>\n",
       "      <td>708815</td>\n",
       "      <td>1.250000</td>\n",
       "      <td>1</td>\n",
       "      <td>0</td>\n",
       "    </tr>\n",
       "    <tr>\n",
       "      <th>4</th>\n",
       "      <td>708818</td>\n",
       "      <td>1.290000</td>\n",
       "      <td>1</td>\n",
       "      <td>1</td>\n",
       "    </tr>\n",
       "    <tr>\n",
       "      <th>...</th>\n",
       "      <td>...</td>\n",
       "      <td>...</td>\n",
       "      <td>...</td>\n",
       "      <td>...</td>\n",
       "    </tr>\n",
       "    <tr>\n",
       "      <th>1138</th>\n",
       "      <td>1314410</td>\n",
       "      <td>358.189997</td>\n",
       "      <td>13</td>\n",
       "      <td>2</td>\n",
       "    </tr>\n",
       "    <tr>\n",
       "      <th>1139</th>\n",
       "      <td>1314411</td>\n",
       "      <td>173.880003</td>\n",
       "      <td>3</td>\n",
       "      <td>0</td>\n",
       "    </tr>\n",
       "    <tr>\n",
       "      <th>1140</th>\n",
       "      <td>1314412</td>\n",
       "      <td>40.289999</td>\n",
       "      <td>2</td>\n",
       "      <td>0</td>\n",
       "    </tr>\n",
       "    <tr>\n",
       "      <th>1141</th>\n",
       "      <td>1314414</td>\n",
       "      <td>198.710000</td>\n",
       "      <td>8</td>\n",
       "      <td>2</td>\n",
       "    </tr>\n",
       "    <tr>\n",
       "      <th>1142</th>\n",
       "      <td>1314415</td>\n",
       "      <td>165.609999</td>\n",
       "      <td>5</td>\n",
       "      <td>2</td>\n",
       "    </tr>\n",
       "  </tbody>\n",
       "</table>\n",
       "<p>1143 rows × 4 columns</p>\n",
       "</div>"
      ],
      "text/plain": [
       "        ad_id       Spent  Total_Conversion  Approved_Conversion\n",
       "0      708746    1.430000                 2                    1\n",
       "1      708749    1.820000                 2                    0\n",
       "2      708771    0.000000                 1                    0\n",
       "3      708815    1.250000                 1                    0\n",
       "4      708818    1.290000                 1                    1\n",
       "...       ...         ...               ...                  ...\n",
       "1138  1314410  358.189997                13                    2\n",
       "1139  1314411  173.880003                 3                    0\n",
       "1140  1314412   40.289999                 2                    0\n",
       "1141  1314414  198.710000                 8                    2\n",
       "1142  1314415  165.609999                 5                    2\n",
       "\n",
       "[1143 rows x 4 columns]"
      ]
     },
     "execution_count": 115,
     "metadata": {},
     "output_type": "execute_result"
    }
   ],
   "source": [
    "#Part B\n",
    "cpc_col_of_interest = ['ad_id','Spent','Total_Conversion','Approved_Conversion']\n",
    "cpc_fb_data = fb_data[cpc_col_of_interest]\n",
    "cpc_fb_data"
   ]
  },
  {
   "cell_type": "code",
   "execution_count": 116,
   "metadata": {},
   "outputs": [
    {
     "data": {
      "text/html": [
       "<div>\n",
       "<style scoped>\n",
       "    .dataframe tbody tr th:only-of-type {\n",
       "        vertical-align: middle;\n",
       "    }\n",
       "\n",
       "    .dataframe tbody tr th {\n",
       "        vertical-align: top;\n",
       "    }\n",
       "\n",
       "    .dataframe thead th {\n",
       "        text-align: right;\n",
       "    }\n",
       "</style>\n",
       "<table border=\"1\" class=\"dataframe\">\n",
       "  <thead>\n",
       "    <tr style=\"text-align: right;\">\n",
       "      <th></th>\n",
       "      <th>ad_id</th>\n",
       "      <th>xyz_campaign_id</th>\n",
       "      <th>fb_campaign_id</th>\n",
       "      <th>age</th>\n",
       "      <th>gender</th>\n",
       "      <th>interest</th>\n",
       "      <th>Impressions</th>\n",
       "      <th>Clicks</th>\n",
       "      <th>Spent</th>\n",
       "      <th>Total_Conversion</th>\n",
       "      <th>Approved_Conversion</th>\n",
       "      <th>CPC</th>\n",
       "    </tr>\n",
       "  </thead>\n",
       "  <tbody>\n",
       "    <tr>\n",
       "      <th>0</th>\n",
       "      <td>708746</td>\n",
       "      <td>916</td>\n",
       "      <td>103916</td>\n",
       "      <td>30-34</td>\n",
       "      <td>M</td>\n",
       "      <td>15</td>\n",
       "      <td>7350</td>\n",
       "      <td>1</td>\n",
       "      <td>1.430000</td>\n",
       "      <td>2</td>\n",
       "      <td>1</td>\n",
       "      <td>0.476667</td>\n",
       "    </tr>\n",
       "    <tr>\n",
       "      <th>1</th>\n",
       "      <td>708749</td>\n",
       "      <td>916</td>\n",
       "      <td>103917</td>\n",
       "      <td>30-34</td>\n",
       "      <td>M</td>\n",
       "      <td>16</td>\n",
       "      <td>17861</td>\n",
       "      <td>2</td>\n",
       "      <td>1.820000</td>\n",
       "      <td>2</td>\n",
       "      <td>0</td>\n",
       "      <td>0.910000</td>\n",
       "    </tr>\n",
       "    <tr>\n",
       "      <th>2</th>\n",
       "      <td>708771</td>\n",
       "      <td>916</td>\n",
       "      <td>103920</td>\n",
       "      <td>30-34</td>\n",
       "      <td>M</td>\n",
       "      <td>20</td>\n",
       "      <td>693</td>\n",
       "      <td>0</td>\n",
       "      <td>0.000000</td>\n",
       "      <td>1</td>\n",
       "      <td>0</td>\n",
       "      <td>0.000000</td>\n",
       "    </tr>\n",
       "    <tr>\n",
       "      <th>3</th>\n",
       "      <td>708815</td>\n",
       "      <td>916</td>\n",
       "      <td>103928</td>\n",
       "      <td>30-34</td>\n",
       "      <td>M</td>\n",
       "      <td>28</td>\n",
       "      <td>4259</td>\n",
       "      <td>1</td>\n",
       "      <td>1.250000</td>\n",
       "      <td>1</td>\n",
       "      <td>0</td>\n",
       "      <td>1.250000</td>\n",
       "    </tr>\n",
       "    <tr>\n",
       "      <th>4</th>\n",
       "      <td>708818</td>\n",
       "      <td>916</td>\n",
       "      <td>103928</td>\n",
       "      <td>30-34</td>\n",
       "      <td>M</td>\n",
       "      <td>28</td>\n",
       "      <td>4133</td>\n",
       "      <td>1</td>\n",
       "      <td>1.290000</td>\n",
       "      <td>1</td>\n",
       "      <td>1</td>\n",
       "      <td>0.645000</td>\n",
       "    </tr>\n",
       "    <tr>\n",
       "      <th>...</th>\n",
       "      <td>...</td>\n",
       "      <td>...</td>\n",
       "      <td>...</td>\n",
       "      <td>...</td>\n",
       "      <td>...</td>\n",
       "      <td>...</td>\n",
       "      <td>...</td>\n",
       "      <td>...</td>\n",
       "      <td>...</td>\n",
       "      <td>...</td>\n",
       "      <td>...</td>\n",
       "      <td>...</td>\n",
       "    </tr>\n",
       "    <tr>\n",
       "      <th>1138</th>\n",
       "      <td>1314410</td>\n",
       "      <td>1178</td>\n",
       "      <td>179977</td>\n",
       "      <td>45-49</td>\n",
       "      <td>F</td>\n",
       "      <td>109</td>\n",
       "      <td>1129773</td>\n",
       "      <td>252</td>\n",
       "      <td>358.189997</td>\n",
       "      <td>13</td>\n",
       "      <td>2</td>\n",
       "      <td>23.879333</td>\n",
       "    </tr>\n",
       "    <tr>\n",
       "      <th>1139</th>\n",
       "      <td>1314411</td>\n",
       "      <td>1178</td>\n",
       "      <td>179978</td>\n",
       "      <td>45-49</td>\n",
       "      <td>F</td>\n",
       "      <td>110</td>\n",
       "      <td>637549</td>\n",
       "      <td>120</td>\n",
       "      <td>173.880003</td>\n",
       "      <td>3</td>\n",
       "      <td>0</td>\n",
       "      <td>57.960001</td>\n",
       "    </tr>\n",
       "    <tr>\n",
       "      <th>1140</th>\n",
       "      <td>1314412</td>\n",
       "      <td>1178</td>\n",
       "      <td>179979</td>\n",
       "      <td>45-49</td>\n",
       "      <td>F</td>\n",
       "      <td>111</td>\n",
       "      <td>151531</td>\n",
       "      <td>28</td>\n",
       "      <td>40.289999</td>\n",
       "      <td>2</td>\n",
       "      <td>0</td>\n",
       "      <td>20.145000</td>\n",
       "    </tr>\n",
       "    <tr>\n",
       "      <th>1141</th>\n",
       "      <td>1314414</td>\n",
       "      <td>1178</td>\n",
       "      <td>179981</td>\n",
       "      <td>45-49</td>\n",
       "      <td>F</td>\n",
       "      <td>113</td>\n",
       "      <td>790253</td>\n",
       "      <td>135</td>\n",
       "      <td>198.710000</td>\n",
       "      <td>8</td>\n",
       "      <td>2</td>\n",
       "      <td>19.871000</td>\n",
       "    </tr>\n",
       "    <tr>\n",
       "      <th>1142</th>\n",
       "      <td>1314415</td>\n",
       "      <td>1178</td>\n",
       "      <td>179982</td>\n",
       "      <td>45-49</td>\n",
       "      <td>F</td>\n",
       "      <td>114</td>\n",
       "      <td>513161</td>\n",
       "      <td>114</td>\n",
       "      <td>165.609999</td>\n",
       "      <td>5</td>\n",
       "      <td>2</td>\n",
       "      <td>23.658571</td>\n",
       "    </tr>\n",
       "  </tbody>\n",
       "</table>\n",
       "<p>1143 rows × 12 columns</p>\n",
       "</div>"
      ],
      "text/plain": [
       "        ad_id  xyz_campaign_id  fb_campaign_id    age gender  interest  \\\n",
       "0      708746              916          103916  30-34      M        15   \n",
       "1      708749              916          103917  30-34      M        16   \n",
       "2      708771              916          103920  30-34      M        20   \n",
       "3      708815              916          103928  30-34      M        28   \n",
       "4      708818              916          103928  30-34      M        28   \n",
       "...       ...              ...             ...    ...    ...       ...   \n",
       "1138  1314410             1178          179977  45-49      F       109   \n",
       "1139  1314411             1178          179978  45-49      F       110   \n",
       "1140  1314412             1178          179979  45-49      F       111   \n",
       "1141  1314414             1178          179981  45-49      F       113   \n",
       "1142  1314415             1178          179982  45-49      F       114   \n",
       "\n",
       "      Impressions  Clicks       Spent  Total_Conversion  Approved_Conversion  \\\n",
       "0            7350       1    1.430000                 2                    1   \n",
       "1           17861       2    1.820000                 2                    0   \n",
       "2             693       0    0.000000                 1                    0   \n",
       "3            4259       1    1.250000                 1                    0   \n",
       "4            4133       1    1.290000                 1                    1   \n",
       "...           ...     ...         ...               ...                  ...   \n",
       "1138      1129773     252  358.189997                13                    2   \n",
       "1139       637549     120  173.880003                 3                    0   \n",
       "1140       151531      28   40.289999                 2                    0   \n",
       "1141       790253     135  198.710000                 8                    2   \n",
       "1142       513161     114  165.609999                 5                    2   \n",
       "\n",
       "            CPC  \n",
       "0      0.476667  \n",
       "1      0.910000  \n",
       "2      0.000000  \n",
       "3      1.250000  \n",
       "4      0.645000  \n",
       "...         ...  \n",
       "1138  23.879333  \n",
       "1139  57.960001  \n",
       "1140  20.145000  \n",
       "1141  19.871000  \n",
       "1142  23.658571  \n",
       "\n",
       "[1143 rows x 12 columns]"
      ]
     },
     "execution_count": 116,
     "metadata": {},
     "output_type": "execute_result"
    }
   ],
   "source": [
    "CPC = fb_data['Spent']/(fb_data['Total_Conversion']+fb_data['Approved_Conversion'])\n",
    "fb_data['CPC']= CPC\n",
    "fb_data"
   ]
  },
  {
   "cell_type": "code",
   "execution_count": 117,
   "metadata": {},
   "outputs": [
    {
     "data": {
      "text/html": [
       "<div>\n",
       "<style scoped>\n",
       "    .dataframe tbody tr th:only-of-type {\n",
       "        vertical-align: middle;\n",
       "    }\n",
       "\n",
       "    .dataframe tbody tr th {\n",
       "        vertical-align: top;\n",
       "    }\n",
       "\n",
       "    .dataframe thead th {\n",
       "        text-align: right;\n",
       "    }\n",
       "</style>\n",
       "<table border=\"1\" class=\"dataframe\">\n",
       "  <thead>\n",
       "    <tr style=\"text-align: right;\">\n",
       "      <th></th>\n",
       "      <th>ad_id</th>\n",
       "      <th>xyz_campaign_id</th>\n",
       "      <th>fb_campaign_id</th>\n",
       "      <th>age</th>\n",
       "      <th>gender</th>\n",
       "      <th>interest</th>\n",
       "      <th>Impressions</th>\n",
       "      <th>Clicks</th>\n",
       "      <th>Spent</th>\n",
       "      <th>Total_Conversion</th>\n",
       "      <th>Approved_Conversion</th>\n",
       "      <th>CPC</th>\n",
       "      <th>CPA</th>\n",
       "    </tr>\n",
       "  </thead>\n",
       "  <tbody>\n",
       "    <tr>\n",
       "      <th>0</th>\n",
       "      <td>708746</td>\n",
       "      <td>916</td>\n",
       "      <td>103916</td>\n",
       "      <td>30-34</td>\n",
       "      <td>M</td>\n",
       "      <td>15</td>\n",
       "      <td>7350</td>\n",
       "      <td>1</td>\n",
       "      <td>1.430000</td>\n",
       "      <td>2</td>\n",
       "      <td>1</td>\n",
       "      <td>0.476667</td>\n",
       "      <td>1.430000</td>\n",
       "    </tr>\n",
       "    <tr>\n",
       "      <th>1</th>\n",
       "      <td>708749</td>\n",
       "      <td>916</td>\n",
       "      <td>103917</td>\n",
       "      <td>30-34</td>\n",
       "      <td>M</td>\n",
       "      <td>16</td>\n",
       "      <td>17861</td>\n",
       "      <td>2</td>\n",
       "      <td>1.820000</td>\n",
       "      <td>2</td>\n",
       "      <td>0</td>\n",
       "      <td>0.910000</td>\n",
       "      <td>inf</td>\n",
       "    </tr>\n",
       "    <tr>\n",
       "      <th>2</th>\n",
       "      <td>708771</td>\n",
       "      <td>916</td>\n",
       "      <td>103920</td>\n",
       "      <td>30-34</td>\n",
       "      <td>M</td>\n",
       "      <td>20</td>\n",
       "      <td>693</td>\n",
       "      <td>0</td>\n",
       "      <td>0.000000</td>\n",
       "      <td>1</td>\n",
       "      <td>0</td>\n",
       "      <td>0.000000</td>\n",
       "      <td>NaN</td>\n",
       "    </tr>\n",
       "    <tr>\n",
       "      <th>3</th>\n",
       "      <td>708815</td>\n",
       "      <td>916</td>\n",
       "      <td>103928</td>\n",
       "      <td>30-34</td>\n",
       "      <td>M</td>\n",
       "      <td>28</td>\n",
       "      <td>4259</td>\n",
       "      <td>1</td>\n",
       "      <td>1.250000</td>\n",
       "      <td>1</td>\n",
       "      <td>0</td>\n",
       "      <td>1.250000</td>\n",
       "      <td>inf</td>\n",
       "    </tr>\n",
       "    <tr>\n",
       "      <th>4</th>\n",
       "      <td>708818</td>\n",
       "      <td>916</td>\n",
       "      <td>103928</td>\n",
       "      <td>30-34</td>\n",
       "      <td>M</td>\n",
       "      <td>28</td>\n",
       "      <td>4133</td>\n",
       "      <td>1</td>\n",
       "      <td>1.290000</td>\n",
       "      <td>1</td>\n",
       "      <td>1</td>\n",
       "      <td>0.645000</td>\n",
       "      <td>1.290000</td>\n",
       "    </tr>\n",
       "    <tr>\n",
       "      <th>...</th>\n",
       "      <td>...</td>\n",
       "      <td>...</td>\n",
       "      <td>...</td>\n",
       "      <td>...</td>\n",
       "      <td>...</td>\n",
       "      <td>...</td>\n",
       "      <td>...</td>\n",
       "      <td>...</td>\n",
       "      <td>...</td>\n",
       "      <td>...</td>\n",
       "      <td>...</td>\n",
       "      <td>...</td>\n",
       "      <td>...</td>\n",
       "    </tr>\n",
       "    <tr>\n",
       "      <th>1138</th>\n",
       "      <td>1314410</td>\n",
       "      <td>1178</td>\n",
       "      <td>179977</td>\n",
       "      <td>45-49</td>\n",
       "      <td>F</td>\n",
       "      <td>109</td>\n",
       "      <td>1129773</td>\n",
       "      <td>252</td>\n",
       "      <td>358.189997</td>\n",
       "      <td>13</td>\n",
       "      <td>2</td>\n",
       "      <td>23.879333</td>\n",
       "      <td>179.094999</td>\n",
       "    </tr>\n",
       "    <tr>\n",
       "      <th>1139</th>\n",
       "      <td>1314411</td>\n",
       "      <td>1178</td>\n",
       "      <td>179978</td>\n",
       "      <td>45-49</td>\n",
       "      <td>F</td>\n",
       "      <td>110</td>\n",
       "      <td>637549</td>\n",
       "      <td>120</td>\n",
       "      <td>173.880003</td>\n",
       "      <td>3</td>\n",
       "      <td>0</td>\n",
       "      <td>57.960001</td>\n",
       "      <td>inf</td>\n",
       "    </tr>\n",
       "    <tr>\n",
       "      <th>1140</th>\n",
       "      <td>1314412</td>\n",
       "      <td>1178</td>\n",
       "      <td>179979</td>\n",
       "      <td>45-49</td>\n",
       "      <td>F</td>\n",
       "      <td>111</td>\n",
       "      <td>151531</td>\n",
       "      <td>28</td>\n",
       "      <td>40.289999</td>\n",
       "      <td>2</td>\n",
       "      <td>0</td>\n",
       "      <td>20.145000</td>\n",
       "      <td>inf</td>\n",
       "    </tr>\n",
       "    <tr>\n",
       "      <th>1141</th>\n",
       "      <td>1314414</td>\n",
       "      <td>1178</td>\n",
       "      <td>179981</td>\n",
       "      <td>45-49</td>\n",
       "      <td>F</td>\n",
       "      <td>113</td>\n",
       "      <td>790253</td>\n",
       "      <td>135</td>\n",
       "      <td>198.710000</td>\n",
       "      <td>8</td>\n",
       "      <td>2</td>\n",
       "      <td>19.871000</td>\n",
       "      <td>99.355000</td>\n",
       "    </tr>\n",
       "    <tr>\n",
       "      <th>1142</th>\n",
       "      <td>1314415</td>\n",
       "      <td>1178</td>\n",
       "      <td>179982</td>\n",
       "      <td>45-49</td>\n",
       "      <td>F</td>\n",
       "      <td>114</td>\n",
       "      <td>513161</td>\n",
       "      <td>114</td>\n",
       "      <td>165.609999</td>\n",
       "      <td>5</td>\n",
       "      <td>2</td>\n",
       "      <td>23.658571</td>\n",
       "      <td>82.804999</td>\n",
       "    </tr>\n",
       "  </tbody>\n",
       "</table>\n",
       "<p>1143 rows × 13 columns</p>\n",
       "</div>"
      ],
      "text/plain": [
       "        ad_id  xyz_campaign_id  fb_campaign_id    age gender  interest  \\\n",
       "0      708746              916          103916  30-34      M        15   \n",
       "1      708749              916          103917  30-34      M        16   \n",
       "2      708771              916          103920  30-34      M        20   \n",
       "3      708815              916          103928  30-34      M        28   \n",
       "4      708818              916          103928  30-34      M        28   \n",
       "...       ...              ...             ...    ...    ...       ...   \n",
       "1138  1314410             1178          179977  45-49      F       109   \n",
       "1139  1314411             1178          179978  45-49      F       110   \n",
       "1140  1314412             1178          179979  45-49      F       111   \n",
       "1141  1314414             1178          179981  45-49      F       113   \n",
       "1142  1314415             1178          179982  45-49      F       114   \n",
       "\n",
       "      Impressions  Clicks       Spent  Total_Conversion  Approved_Conversion  \\\n",
       "0            7350       1    1.430000                 2                    1   \n",
       "1           17861       2    1.820000                 2                    0   \n",
       "2             693       0    0.000000                 1                    0   \n",
       "3            4259       1    1.250000                 1                    0   \n",
       "4            4133       1    1.290000                 1                    1   \n",
       "...           ...     ...         ...               ...                  ...   \n",
       "1138      1129773     252  358.189997                13                    2   \n",
       "1139       637549     120  173.880003                 3                    0   \n",
       "1140       151531      28   40.289999                 2                    0   \n",
       "1141       790253     135  198.710000                 8                    2   \n",
       "1142       513161     114  165.609999                 5                    2   \n",
       "\n",
       "            CPC         CPA  \n",
       "0      0.476667    1.430000  \n",
       "1      0.910000         inf  \n",
       "2      0.000000         NaN  \n",
       "3      1.250000         inf  \n",
       "4      0.645000    1.290000  \n",
       "...         ...         ...  \n",
       "1138  23.879333  179.094999  \n",
       "1139  57.960001         inf  \n",
       "1140  20.145000         inf  \n",
       "1141  19.871000   99.355000  \n",
       "1142  23.658571   82.804999  \n",
       "\n",
       "[1143 rows x 13 columns]"
      ]
     },
     "execution_count": 117,
     "metadata": {},
     "output_type": "execute_result"
    }
   ],
   "source": [
    "# similarly CPA (cost per acquisition)\n",
    "cpa = fb_data['Spent']/fb_data['Approved_Conversion']\n",
    "fb_data['CPA']= cpa\n",
    "fb_data"
   ]
  },
  {
   "cell_type": "code",
   "execution_count": 118,
   "metadata": {},
   "outputs": [
    {
     "data": {
      "text/html": [
       "<div>\n",
       "<style scoped>\n",
       "    .dataframe tbody tr th:only-of-type {\n",
       "        vertical-align: middle;\n",
       "    }\n",
       "\n",
       "    .dataframe tbody tr th {\n",
       "        vertical-align: top;\n",
       "    }\n",
       "\n",
       "    .dataframe thead th {\n",
       "        text-align: right;\n",
       "    }\n",
       "</style>\n",
       "<table border=\"1\" class=\"dataframe\">\n",
       "  <thead>\n",
       "    <tr style=\"text-align: right;\">\n",
       "      <th></th>\n",
       "      <th>ad_id</th>\n",
       "      <th>xyz_campaign_id</th>\n",
       "      <th>fb_campaign_id</th>\n",
       "      <th>interest</th>\n",
       "      <th>Impressions</th>\n",
       "      <th>Clicks</th>\n",
       "      <th>Spent</th>\n",
       "      <th>Total_Conversion</th>\n",
       "      <th>Approved_Conversion</th>\n",
       "      <th>CPC</th>\n",
       "      <th>CPA</th>\n",
       "    </tr>\n",
       "    <tr>\n",
       "      <th>age</th>\n",
       "      <th></th>\n",
       "      <th></th>\n",
       "      <th></th>\n",
       "      <th></th>\n",
       "      <th></th>\n",
       "      <th></th>\n",
       "      <th></th>\n",
       "      <th></th>\n",
       "      <th></th>\n",
       "      <th></th>\n",
       "      <th></th>\n",
       "    </tr>\n",
       "  </thead>\n",
       "  <tbody>\n",
       "    <tr>\n",
       "      <th>30-34</th>\n",
       "      <td>1.007842e+06</td>\n",
       "      <td>1080.654867</td>\n",
       "      <td>135362.128319</td>\n",
       "      <td>32.548673</td>\n",
       "      <td>257633.907080</td>\n",
       "      <td>35.845133</td>\n",
       "      <td>58.047876</td>\n",
       "      <td>5.194690</td>\n",
       "      <td>2.185841</td>\n",
       "      <td>5.864271</td>\n",
       "      <td>22.946630</td>\n",
       "    </tr>\n",
       "    <tr>\n",
       "      <th>35-39</th>\n",
       "      <td>1.040501e+06</td>\n",
       "      <td>1105.782946</td>\n",
       "      <td>139019.922481</td>\n",
       "      <td>35.906977</td>\n",
       "      <td>260736.930233</td>\n",
       "      <td>43.333333</td>\n",
       "      <td>68.218527</td>\n",
       "      <td>3.651163</td>\n",
       "      <td>1.604651</td>\n",
       "      <td>10.600280</td>\n",
       "      <td>40.606659</td>\n",
       "    </tr>\n",
       "    <tr>\n",
       "      <th>40-44</th>\n",
       "      <td>1.059510e+06</td>\n",
       "      <td>1111.663551</td>\n",
       "      <td>141501.887850</td>\n",
       "      <td>36.542056</td>\n",
       "      <td>264450.616822</td>\n",
       "      <td>50.252336</td>\n",
       "      <td>75.703458</td>\n",
       "      <td>3.532710</td>\n",
       "      <td>1.588785</td>\n",
       "      <td>13.477435</td>\n",
       "      <td>46.817139</td>\n",
       "    </tr>\n",
       "    <tr>\n",
       "      <th>45-49</th>\n",
       "      <td>1.036439e+06</td>\n",
       "      <td>1100.147541</td>\n",
       "      <td>139290.213115</td>\n",
       "      <td>35.819672</td>\n",
       "      <td>360093.844262</td>\n",
       "      <td>75.942623</td>\n",
       "      <td>114.192869</td>\n",
       "      <td>3.868852</td>\n",
       "      <td>1.704918</td>\n",
       "      <td>18.080533</td>\n",
       "      <td>67.616514</td>\n",
       "    </tr>\n",
       "  </tbody>\n",
       "</table>\n",
       "</div>"
      ],
      "text/plain": [
       "              ad_id  xyz_campaign_id  fb_campaign_id   interest  \\\n",
       "age                                                               \n",
       "30-34  1.007842e+06      1080.654867   135362.128319  32.548673   \n",
       "35-39  1.040501e+06      1105.782946   139019.922481  35.906977   \n",
       "40-44  1.059510e+06      1111.663551   141501.887850  36.542056   \n",
       "45-49  1.036439e+06      1100.147541   139290.213115  35.819672   \n",
       "\n",
       "         Impressions     Clicks       Spent  Total_Conversion  \\\n",
       "age                                                             \n",
       "30-34  257633.907080  35.845133   58.047876          5.194690   \n",
       "35-39  260736.930233  43.333333   68.218527          3.651163   \n",
       "40-44  264450.616822  50.252336   75.703458          3.532710   \n",
       "45-49  360093.844262  75.942623  114.192869          3.868852   \n",
       "\n",
       "       Approved_Conversion        CPC        CPA  \n",
       "age                                               \n",
       "30-34             2.185841   5.864271  22.946630  \n",
       "35-39             1.604651  10.600280  40.606659  \n",
       "40-44             1.588785  13.477435  46.817139  \n",
       "45-49             1.704918  18.080533  67.616514  "
      ]
     },
     "execution_count": 118,
     "metadata": {},
     "output_type": "execute_result"
    }
   ],
   "source": [
    "fb_data.replace([np.inf], np.nan, inplace=True)\n",
    "fb_data.dropna(inplace=True)\n",
    "groupby_age = fb_data.groupby(by=['age']).mean()\n",
    "groupby_age"
   ]
  },
  {
   "cell_type": "code",
   "execution_count": 121,
   "metadata": {},
   "outputs": [
    {
     "data": {
      "image/png": "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\n",
      "text/plain": [
       "<Figure size 576x396 with 1 Axes>"
      ]
     },
     "metadata": {},
     "output_type": "display_data"
    },
    {
     "name": "stdout",
     "output_type": "stream",
     "text": [
      "For a successful and better ad campaign it should have a lower CPC value. higher the CPC indicates low performance. Hence CPC \n",
      " should be low as possible to get a good number of conversions.\n",
      " In the below CPC based on the age-group, age-group of 30-34 has lowest CPC. Therefore it shows that this age-group has most conversion rate. Age-group of 45-49 makes the least conversions.\n",
      "The ad strategy should focus on age group 30-34 at most, following to this age 35-39 reflects 2nd highest conversion rate.\n"
     ]
    },
    {
     "data": {
      "image/png": "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\n",
      "text/plain": [
       "<Figure size 576x396 with 1 Axes>"
      ]
     },
     "metadata": {},
     "output_type": "display_data"
    },
    {
     "name": "stdout",
     "output_type": "stream",
     "text": [
      "CPA is similar to CPC,hence shows the same trend\n"
     ]
    }
   ],
   "source": [
    "_= groupby_age.plot( y=['CPC'], kind= 'bar')\n",
    "plt.show()\n",
    "plt.close()\n",
    "print('For a successful and better ad campaign it should have a lower CPC value. higher the CPC indicates low performance. Hence CPC \\n should be low as possible to get a good number of conversions.\\n In the below CPC based on the age-group, age-group of 30-34 has lowest CPC. Therefore it shows that this age-group has most conversion rate. Age-group of 45-49 makes the least conversions.')\n",
    "\n",
    "print('The ad strategy should focus on age group 30-34 at most, following to this age 35-39 reflects 2nd highest conversion rate.')\n",
    "      \n",
    "__= groupby_age.plot( y=['CPA'], kind= 'bar')\n",
    "plt.show()\n",
    "plt.close()\n",
    "\n",
    "print('CPA is similar to CPC,hence shows the same trend')"
   ]
  },
  {
   "cell_type": "code",
   "execution_count": 122,
   "metadata": {},
   "outputs": [
    {
     "data": {
      "image/png": "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\n",
      "text/plain": [
       "<Figure size 576x396 with 1 Axes>"
      ]
     },
     "metadata": {},
     "output_type": "display_data"
    },
    {
     "name": "stdout",
     "output_type": "stream",
     "text": [
      "Among the two gender category, male depicts the most conversion with least CPC. whereas female conversion rate is comparatively less.\n",
      "ad should also introduce more female attracting products/ad to maintain a balanced competition between male & female.\n"
     ]
    },
    {
     "data": {
      "image/png": "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\n",
      "text/plain": [
       "<Figure size 576x396 with 1 Axes>"
      ]
     },
     "metadata": {},
     "output_type": "display_data"
    },
    {
     "name": "stdout",
     "output_type": "stream",
     "text": [
      " Supporting to the above statement, this graph evidences that male category makes the most approved conversions\n"
     ]
    }
   ],
   "source": [
    "groupby_gender = fb_data.groupby(by='gender').mean()\n",
    "groupby_gender\n",
    "_= groupby_gender.plot( y=['CPC'], kind= 'bar')\n",
    "plt.show()\n",
    "plt.close()\n",
    "print(\"Among the two gender category, male depicts the most conversion with least CPC. whereas female conversion rate is comparatively less.\")\n",
    "print(\"ad should also introduce more female attracting products/ad to maintain a balanced competition between male & female.\")\n",
    "\n",
    "__= df2.plot(y=['Approved_Conversion'], kind='bar')\n",
    "plt.show()\n",
    "plt.close()\n",
    "print(\" Supporting to the above statement, this graph evidences that male category makes the most approved conversions\")"
   ]
  },
  {
   "cell_type": "code",
   "execution_count": 123,
   "metadata": {},
   "outputs": [
    {
     "data": {
      "image/png": "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\n",
      "text/plain": [
       "<Figure size 576x396 with 1 Axes>"
      ]
     },
     "metadata": {},
     "output_type": "display_data"
    }
   ],
   "source": [
    "plt.style.use('seaborn')\n",
    "_ = sns.boxplot(fb_data['CPC'], data=fb_data)\n",
    "_= plt.title('Cost per conversion')\n",
    "plt.show()"
   ]
  },
  {
   "cell_type": "code",
   "execution_count": 124,
   "metadata": {},
   "outputs": [
    {
     "name": "stdout",
     "output_type": "stream",
     "text": [
      "IQR : 14.125833302\n",
      "Upper bound: 0     False\n",
      "4     False\n",
      "5     False\n",
      "7     False\n",
      "14    False\n",
      "Name: CPC, dtype: bool\n",
      "Lower bound: 0     False\n",
      "4     False\n",
      "5     False\n",
      "7     False\n",
      "14    False\n",
      "Name: CPC, dtype: bool\n",
      "Deleting outlier is not recomended as it depicts the customers pattern. Hence outliers are included\n"
     ]
    }
   ],
   "source": [
    "Q1 = np.percentile(fb_data['CPC'], 25,\n",
    "                   interpolation = 'midpoint')\n",
    " \n",
    "Q3 = np.percentile(fb_data['CPC'], 75,\n",
    "                   interpolation = 'midpoint')\n",
    "IQR = Q3 - Q1\n",
    "print(\"IQR :\", IQR)\n",
    "upper = fb_data['CPC'] >= (Q3+1.5*IQR)\n",
    " \n",
    "print(\"Upper bound:\",upper.head(5))\n",
    " \n",
    "# Below Lower bound\n",
    "lower = fb_data['CPC'] <= (Q1-1.5*IQR)\n",
    "print(\"Lower bound:\", lower.head(5))\n",
    "print('Deleting outlier is not recomended as it depicts the customers pattern. Hence outliers are included')\n"
   ]
  },
  {
   "cell_type": "code",
   "execution_count": 125,
   "metadata": {},
   "outputs": [
    {
     "data": {
      "image/png": "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\n",
      "text/plain": [
       "<Figure size 360x360 with 1 Axes>"
      ]
     },
     "metadata": {},
     "output_type": "display_data"
    },
    {
     "name": "stdout",
     "output_type": "stream",
     "text": [
      "correlation_click_CPC: 0.6302986074971911\n",
      "shows a positive relationship between CPC and clicks.\n"
     ]
    },
    {
     "data": {
      "image/png": "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\n",
      "text/plain": [
       "<Figure size 360x360 with 1 Axes>"
      ]
     },
     "metadata": {},
     "output_type": "display_data"
    },
    {
     "name": "stdout",
     "output_type": "stream",
     "text": [
      "correlation_spent_CPC: 0.6180767571730242\n",
      " positive relationship between CPC and spent\n"
     ]
    },
    {
     "data": {
      "image/png": "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\n",
      "text/plain": [
       "<Figure size 360x360 with 1 Axes>"
      ]
     },
     "metadata": {},
     "output_type": "display_data"
    },
    {
     "name": "stdout",
     "output_type": "stream",
     "text": [
      "correlation_totconversion_CPC: 0.11263193079656471\n",
      "CPC vs total conversion shows almost a null relation. However, since CPC is inversly proportional to total conversion all the points are accumulatated to the lower CPC region\n"
     ]
    }
   ],
   "source": [
    "_ = sns.relplot(data=fb_data, x='CPC',y='Clicks',kind=\"scatter\")\n",
    "plt.show()\n",
    "correlation_click_CPC = fb_data[\"CPC\"].corr(fb_data[\"Clicks\"])\n",
    "print(\"correlation_click_CPC:\",correlation_click_CPC)\n",
    "print('shows a positive relationship between CPC and clicks.')\n",
    "\n",
    "__ = sns.relplot(data=fb_data, x='CPC',y='Spent',kind=\"scatter\")\n",
    "plt.show()\n",
    "correlation_spent_CPC = fb_data[\"CPC\"].corr(fb_data[\"Spent\"])\n",
    "print(\"correlation_spent_CPC:\",correlation_spent_CPC)\n",
    "print(\" positive relationship between CPC and spent\")\n",
    "\n",
    "___ = sns.relplot(data=fb_data, x='CPC',y='Total_Conversion',kind=\"scatter\")\n",
    "plt.show()\n",
    "correlation_totconversion_CPC = fb_data[\"CPC\"].corr(fb_data[\"Total_Conversion\"])\n",
    "print(\"correlation_totconversion_CPC:\",correlation_totconversion_CPC)\n",
    "print(\"CPC vs total conversion shows almost a null relation. However, since CPC is inversly proportional to total conversion all the points are accumulatated to the lower CPC region\")\n"
   ]
  },
  {
   "cell_type": "code",
   "execution_count": 126,
   "metadata": {},
   "outputs": [
    {
     "data": {
      "image/png": "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\n",
      "text/plain": [
       "<Figure size 360x360 with 1 Axes>"
      ]
     },
     "metadata": {},
     "output_type": "display_data"
    },
    {
     "name": "stdout",
     "output_type": "stream",
     "text": [
      "correlation__Impressions_CPC: 0.5189605527283175\n",
      "shows a positive relationship between CPC and Impressions \n"
     ]
    },
    {
     "data": {
      "image/png": "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\n",
      "text/plain": [
       "<Figure size 360x360 with 1 Axes>"
      ]
     },
     "metadata": {},
     "output_type": "display_data"
    },
    {
     "name": "stdout",
     "output_type": "stream",
     "text": [
      "correlation__Interest_CPC: -0.009741949161431718\n",
      "Indicates a negative relationship between CPC and interest\n"
     ]
    }
   ],
   "source": [
    "_= sns.relplot(data=fb_data, x='CPC',y='Impressions',kind=\"scatter\")\n",
    "plt.show()\n",
    "correlation__Impressions_CPC = fb_data[\"CPC\"].corr(fb_data[\"Impressions\"])\n",
    "print(\"correlation__Impressions_CPC:\",correlation__Impressions_CPC)\n",
    "print(\"shows a positive relationship between CPC and Impressions \")\n",
    "\n",
    "__= sns.relplot(data=fb_data, x='CPC',y='interest',kind=\"scatter\")\n",
    "plt.show()\n",
    "correlation__Interest_CPC = fb_data[\"CPC\"].corr(fb_data[\"interest\"])\n",
    "print(\"correlation__Interest_CPC:\",correlation__Interest_CPC)\n",
    "print(\"Indicates a negative relationship between CPC and interest\")"
   ]
  },
  {
   "cell_type": "code",
   "execution_count": 134,
   "metadata": {},
   "outputs": [
    {
     "name": "stdout",
     "output_type": "stream",
     "text": [
      " * In conclusion to the analysis, it is pictured that the ad strategy should focus more on customers of age group 30-34, 35-39   rather than 45-49.\n",
      " * Also ad impresions should be close to customers interest code, in doing so there will be a positive relationship between CPC   and interest.\n",
      " * In order to reduce the expenditure on ad/ spent on ad,CPC should be less. Targeting higher CPC group and doubling the \n",
      "impressions excercise on that group would improve the conversion rate and hence lowers the CPC.    \n"
     ]
    }
   ],
   "source": [
    "print(\" * In conclusion to the analysis, it is pictured that the ad strategy should focus more on customers of age group 30-34, 35-39   rather than 45-49.\\n * Also ad impresions should be close to customers interest code, in doing so there will be a positive relationship between CPC   and interest.\\n * In order to reduce the expenditure on ad/ spent on ad,CPC should be less. Targeting higher CPC group and doubling the \\nimpressions excercise on that group would improve the conversion rate and hence lowers the CPC.    \")\n"
   ]
  }
 ],
 "metadata": {
  "kernelspec": {
   "display_name": "Python 3",
   "language": "python",
   "name": "python3"
  },
  "language_info": {
   "codemirror_mode": {
    "name": "ipython",
    "version": 3
   },
   "file_extension": ".py",
   "mimetype": "text/x-python",
   "name": "python",
   "nbconvert_exporter": "python",
   "pygments_lexer": "ipython3",
   "version": "3.8.5"
  }
 },
 "nbformat": 4,
 "nbformat_minor": 4
}
